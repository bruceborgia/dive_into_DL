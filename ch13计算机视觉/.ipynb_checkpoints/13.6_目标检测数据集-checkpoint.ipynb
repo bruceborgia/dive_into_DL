{
 "cells": [
  {
   "cell_type": "code",
   "execution_count": 2,
   "metadata": {},
   "outputs": [],
   "source": [
    "%matplotlib inline\n",
    "import os\n",
    "import pandas as pd\n",
    "import torch\n",
    "import torchvision\n",
    "from d2l import torch as d2l\n",
    "\n",
    "d2l.DATA_HUB['banana-detection'] = (\n",
    "    d2l.DATA_URL + 'banana-detection.zip',\n",
    "    '5de26c8fce5ccdea9f91267273464dc968d20d72')"
   ]
  },
  {
   "cell_type": "code",
   "execution_count": 5,
   "metadata": {},
   "outputs": [],
   "source": [
    "def read_Data_bananas(is_train = True):\n",
    "    '''读取相交检测数据集中的图像和标签'''\n",
    "    data_dir = d2l.download_extract('banana-detection')\n",
    "    csv_fname=os.path.join(data_dir,'bananas_train' if is_train\n",
    "                          else 'bananas_val','label.csv')\n",
    "    csv_data = pd.read_csv(csv_fname)\n",
    "    images,targets = [],[]\n",
    "    for img_name, target in csv_data.iterrows():\n",
    "        images.append(torchvision.io.read_image(\n",
    "            os.path.join(data_dir,'bananas_train' if is_train else\n",
    "                        'bananas_val','images',f'{img_name}')))\n",
    "        targets.append(list(target))\n",
    "    return images, torch.tensor(targets).unsqueeze(1)/256"
   ]
  },
  {
   "cell_type": "code",
   "execution_count": null,
   "metadata": {},
   "outputs": [],
   "source": [
    "calss BananasDataset(torch.utils.data.Dataset):\n",
    "    \"\"\"一个用于加载香蕉检测数据集的自定义数据集\"\"\"\n",
    "    def __init__(self, is_train):\n",
    "        self.features, self.labels = read_data_bananas(is_train)\n",
    "        print('read'+str(len(self.features))+\n",
    "              (f'training examples' if is_train else f'validation examples'))\n",
    "    \n",
    "    def __getitem__(self, idx):\n",
    "        return (self.features[idx].float(), self.labels[idx])\n",
    "\n",
    "    \n",
    "    def __len__(self):\n",
    "        return len(self.features"
   ]
  }
 ],
 "metadata": {
  "kernelspec": {
   "display_name": "Python 3",
   "language": "python",
   "name": "python3"
  },
  "language_info": {
   "codemirror_mode": {
    "name": "ipython",
    "version": 3
   },
   "file_extension": ".py",
   "mimetype": "text/x-python",
   "name": "python",
   "nbconvert_exporter": "python",
   "pygments_lexer": "ipython3",
   "version": "3.7.3"
  }
 },
 "nbformat": 4,
 "nbformat_minor": 2
}
