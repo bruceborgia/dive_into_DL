{
 "cells": [
  {
   "cell_type": "code",
   "execution_count": 1,
   "id": "initial_id",
   "metadata": {
    "collapsed": true,
    "ExecuteTime": {
     "end_time": "2023-10-17T06:58:23.428778400Z",
     "start_time": "2023-10-17T06:58:20.751911900Z"
    }
   },
   "outputs": [],
   "source": [
    "import torch"
   ]
  },
  {
   "cell_type": "markdown",
   "source": [
    "### 张量表示一个数值组成的数组，这个数组可能有多个维度"
   ],
   "metadata": {
    "collapsed": false
   },
   "id": "ee8fc2f7402a4d6e"
  },
  {
   "cell_type": "code",
   "execution_count": 2,
   "outputs": [
    {
     "data": {
      "text/plain": "tensor([ 0,  1,  2,  3,  4,  5,  6,  7,  8,  9, 10, 11])"
     },
     "execution_count": 2,
     "metadata": {},
     "output_type": "execute_result"
    }
   ],
   "source": [
    "x = torch.arange(12)\n",
    "x"
   ],
   "metadata": {
    "collapsed": false,
    "ExecuteTime": {
     "end_time": "2023-10-17T06:59:45.424206Z",
     "start_time": "2023-10-17T06:59:45.349887200Z"
    }
   },
   "id": "7b6ab987a10f4797"
  },
  {
   "cell_type": "code",
   "execution_count": 3,
   "outputs": [
    {
     "data": {
      "text/plain": "torch.Size([12])"
     },
     "execution_count": 3,
     "metadata": {},
     "output_type": "execute_result"
    }
   ],
   "source": [
    "x.shape"
   ],
   "metadata": {
    "collapsed": false,
    "ExecuteTime": {
     "end_time": "2023-10-17T07:00:05.544271500Z",
     "start_time": "2023-10-17T07:00:05.481273100Z"
    }
   },
   "id": "ffb4cebcbba63ccf"
  },
  {
   "cell_type": "code",
   "execution_count": 4,
   "outputs": [
    {
     "data": {
      "text/plain": "12"
     },
     "execution_count": 4,
     "metadata": {},
     "output_type": "execute_result"
    }
   ],
   "source": [
    "x.numel()"
   ],
   "metadata": {
    "collapsed": false,
    "ExecuteTime": {
     "end_time": "2023-10-17T07:00:12.411877500Z",
     "start_time": "2023-10-17T07:00:12.350067800Z"
    }
   },
   "id": "4682055d2696065"
  },
  {
   "cell_type": "markdown",
   "source": [
    "### 改变一个张量的形状而不改变元素数量和元素值，我们可以调用reshape函数"
   ],
   "metadata": {
    "collapsed": false
   },
   "id": "f48acd4c70652292"
  },
  {
   "cell_type": "code",
   "execution_count": 5,
   "outputs": [
    {
     "data": {
      "text/plain": "tensor([[ 0,  1,  2,  3],\n        [ 4,  5,  6,  7],\n        [ 8,  9, 10, 11]])"
     },
     "execution_count": 5,
     "metadata": {},
     "output_type": "execute_result"
    }
   ],
   "source": [
    "X = x.reshape(3, 4)\n",
    "X"
   ],
   "metadata": {
    "collapsed": false,
    "ExecuteTime": {
     "end_time": "2023-10-17T07:01:33.496164Z",
     "start_time": "2023-10-17T07:01:33.430142900Z"
    }
   },
   "id": "59a8e56b82b37d5"
  },
  {
   "cell_type": "code",
   "execution_count": 6,
   "outputs": [
    {
     "data": {
      "text/plain": "torch.Size([3, 4])"
     },
     "execution_count": 6,
     "metadata": {},
     "output_type": "execute_result"
    }
   ],
   "source": [
    "X.shape"
   ],
   "metadata": {
    "collapsed": false,
    "ExecuteTime": {
     "end_time": "2023-10-17T07:01:57.878195500Z",
     "start_time": "2023-10-17T07:01:57.831196700Z"
    }
   },
   "id": "6e21c1eb5ad649a8"
  },
  {
   "cell_type": "markdown",
   "source": [
    "### 使用全0，全1，其他常量或从特定分布中随机采样的数字"
   ],
   "metadata": {
    "collapsed": false
   },
   "id": "381296abe3e8fb9d"
  },
  {
   "cell_type": "code",
   "execution_count": 8,
   "outputs": [
    {
     "data": {
      "text/plain": "tensor([[[1., 1., 1., 1.],\n         [1., 1., 1., 1.],\n         [1., 1., 1., 1.]],\n\n        [[1., 1., 1., 1.],\n         [1., 1., 1., 1.],\n         [1., 1., 1., 1.]]])"
     },
     "execution_count": 8,
     "metadata": {},
     "output_type": "execute_result"
    }
   ],
   "source": [
    "torch.ones((2,3,4))"
   ],
   "metadata": {
    "collapsed": false,
    "ExecuteTime": {
     "end_time": "2023-10-17T07:03:02.300184Z",
     "start_time": "2023-10-17T07:03:02.202183500Z"
    }
   },
   "id": "47fca02b7ce5d82b"
  },
  {
   "cell_type": "code",
   "execution_count": 9,
   "outputs": [
    {
     "data": {
      "text/plain": "tensor([[[1., 1., 1., 1.],\n         [1., 1., 1., 1.],\n         [1., 1., 1., 1.]],\n\n        [[1., 1., 1., 1.],\n         [1., 1., 1., 1.],\n         [1., 1., 1., 1.]]])"
     },
     "execution_count": 9,
     "metadata": {},
     "output_type": "execute_result"
    }
   ],
   "source": [
    "torch.ones((2,3,4))"
   ],
   "metadata": {
    "collapsed": false,
    "ExecuteTime": {
     "end_time": "2023-10-17T07:03:11.804379Z",
     "start_time": "2023-10-17T07:03:11.752281700Z"
    }
   },
   "id": "3ff9484b900d4446"
  },
  {
   "cell_type": "markdown",
   "source": [
    "### 通过python  list创建"
   ],
   "metadata": {
    "collapsed": false
   },
   "id": "121b44d7b7195e17"
  },
  {
   "cell_type": "code",
   "execution_count": 14,
   "outputs": [
    {
     "data": {
      "text/plain": "tensor([[2, 1, 4, 3],\n        [1, 2, 3, 4],\n        [4, 3, 2, 1]])"
     },
     "execution_count": 14,
     "metadata": {},
     "output_type": "execute_result"
    }
   ],
   "source": [
    "aa = torch.tensor([[2,1,4,3],[1,2,3,4],[4,3,2,1]])\n",
    "aa\n"
   ],
   "metadata": {
    "collapsed": false,
    "ExecuteTime": {
     "end_time": "2023-10-17T07:05:45.853032400Z",
     "start_time": "2023-10-17T07:05:45.837033200Z"
    }
   },
   "id": "bc519639751c4aa9"
  },
  {
   "cell_type": "code",
   "execution_count": 15,
   "outputs": [
    {
     "data": {
      "text/plain": "torch.Size([3, 4])"
     },
     "execution_count": 15,
     "metadata": {},
     "output_type": "execute_result"
    }
   ],
   "source": [
    "aa.shape"
   ],
   "metadata": {
    "collapsed": false,
    "ExecuteTime": {
     "end_time": "2023-10-17T07:05:48.336160300Z",
     "start_time": "2023-10-17T07:05:48.323160700Z"
    }
   },
   "id": "d1f4ed3ac92b8fdd"
  },
  {
   "cell_type": "markdown",
   "source": [
    "### 常见的标准算术运算符 + - * / **  都可以升级为按元素运算"
   ],
   "metadata": {
    "collapsed": false
   },
   "id": "67655e014d8bdab6"
  },
  {
   "cell_type": "code",
   "execution_count": 17,
   "outputs": [
    {
     "data": {
      "text/plain": "(tensor([ 3.,  4.,  6., 10.]),\n tensor([-1.,  0.,  2.,  6.]),\n tensor([ 2.,  4.,  8., 16.]),\n tensor([0.5000, 1.0000, 2.0000, 4.0000]),\n tensor([ 1.,  4., 16., 64.]))"
     },
     "execution_count": 17,
     "metadata": {},
     "output_type": "execute_result"
    }
   ],
   "source": [
    "x = torch.tensor([1.0, 2, 4, 8])\n",
    "y = torch.tensor([2, 2, 2, 2])\n",
    "x + y, x - y, x * y, x / y, x ** y #  **"
   ],
   "metadata": {
    "collapsed": false,
    "ExecuteTime": {
     "end_time": "2023-10-17T07:08:19.633335700Z",
     "start_time": "2023-10-17T07:08:19.587334900Z"
    }
   },
   "id": "2d9597a686efdd17"
  },
  {
   "cell_type": "code",
   "execution_count": 19,
   "outputs": [
    {
     "data": {
      "text/plain": "tensor([2.7183e+00, 7.3891e+00, 5.4598e+01, 2.9810e+03])"
     },
     "execution_count": 19,
     "metadata": {},
     "output_type": "execute_result"
    }
   ],
   "source": [
    "# 按元素方式应用更多计算，指数\n",
    "torch.exp(x)"
   ],
   "metadata": {
    "collapsed": false,
    "ExecuteTime": {
     "end_time": "2023-10-17T07:25:07.927187Z",
     "start_time": "2023-10-17T07:25:07.874458300Z"
    }
   },
   "id": "644e8000d846e1cc"
  },
  {
   "cell_type": "markdown",
   "source": [
    "### 可以把多个张量连接在一起"
   ],
   "metadata": {
    "collapsed": false
   },
   "id": "ba50f85e38935c28"
  },
  {
   "cell_type": "code",
   "execution_count": 21,
   "outputs": [
    {
     "data": {
      "text/plain": "(tensor([[ 0.,  1.,  2.,  3.],\n         [ 4.,  5.,  6.,  7.],\n         [ 8.,  9., 10., 11.],\n         [ 2.,  1.,  4.,  3.],\n         [ 1.,  2.,  3.,  4.],\n         [ 4.,  3.,  2.,  1.]]),\n tensor([[ 0.,  1.,  2.,  3.,  2.,  1.,  4.,  3.],\n         [ 4.,  5.,  6.,  7.,  1.,  2.,  3.,  4.],\n         [ 8.,  9., 10., 11.,  4.,  3.,  2.,  1.]]))"
     },
     "execution_count": 21,
     "metadata": {},
     "output_type": "execute_result"
    }
   ],
   "source": [
    "X = torch.arange(12 ,dtype=torch.float32).reshape((3, 4))\n",
    "Y = torch.tensor([[2.0, 1, 4, 3], [1, 2, 3, 4],[4, 3, 2, 1]])\n",
    "torch.cat((X, Y), dim=0), torch.cat((X, Y), dim=1)"
   ],
   "metadata": {
    "collapsed": false,
    "ExecuteTime": {
     "end_time": "2023-10-17T07:29:23.050007500Z",
     "start_time": "2023-10-17T07:29:23.000008700Z"
    }
   },
   "id": "3fd63fe3dc3bd562"
  },
  {
   "cell_type": "code",
   "execution_count": 28,
   "outputs": [
    {
     "data": {
      "text/plain": "tensor([[False,  True, False,  True],\n        [False, False, False, False],\n        [False, False, False, False]])"
     },
     "execution_count": 28,
     "metadata": {},
     "output_type": "execute_result"
    }
   ],
   "source": [
    "### 通过逻辑运算符构建二维张量\n",
    "X == Y"
   ],
   "metadata": {
    "collapsed": false,
    "ExecuteTime": {
     "end_time": "2023-10-17T07:31:19.002900400Z",
     "start_time": "2023-10-17T07:31:18.973901300Z"
    }
   },
   "id": "fb49b3839e567738"
  },
  {
   "cell_type": "markdown",
   "source": [
    "### 对张量中所有的元素进行求和，会产生只有一个元素的张量"
   ],
   "metadata": {
    "collapsed": false
   },
   "id": "b57680311a9c16ae"
  },
  {
   "cell_type": "code",
   "execution_count": 29,
   "outputs": [
    {
     "data": {
      "text/plain": "tensor(66.)"
     },
     "execution_count": 29,
     "metadata": {},
     "output_type": "execute_result"
    }
   ],
   "source": [
    "X.sum()"
   ],
   "metadata": {
    "collapsed": false,
    "ExecuteTime": {
     "end_time": "2023-10-17T07:32:32.534510900Z",
     "start_time": "2023-10-17T07:32:32.470103Z"
    }
   },
   "id": "1fea3e4102f3f156"
  },
  {
   "cell_type": "markdown",
   "source": [
    "## 广播机制\n",
    "### 即使形状不同，仍然可以通过调用广播机制 来执行按元素操作"
   ],
   "metadata": {
    "collapsed": false
   },
   "id": "f1a677dbc5a74f66"
  },
  {
   "cell_type": "code",
   "execution_count": 30,
   "outputs": [
    {
     "data": {
      "text/plain": "(tensor([[0],\n         [1],\n         [2]]),\n tensor([[0, 1]]))"
     },
     "execution_count": 30,
     "metadata": {},
     "output_type": "execute_result"
    }
   ],
   "source": [
    "a = torch.arange(3).reshape((3, 1))\n",
    "b = torch.arange(2).reshape((1,2))\n",
    "a, b"
   ],
   "metadata": {
    "collapsed": false,
    "ExecuteTime": {
     "end_time": "2023-10-17T07:34:33.537098800Z",
     "start_time": "2023-10-17T07:34:33.501099500Z"
    }
   },
   "id": "fcd4711004485c09"
  },
  {
   "cell_type": "code",
   "execution_count": 32,
   "outputs": [
    {
     "data": {
      "text/plain": "tensor([[0, 1],\n        [1, 2],\n        [2, 3]])"
     },
     "execution_count": 32,
     "metadata": {},
     "output_type": "execute_result"
    }
   ],
   "source": [
    "# a 复制成3x2， b复制成3 x 2，然后相加   \n",
    "\n",
    "a + b"
   ],
   "metadata": {
    "collapsed": false,
    "ExecuteTime": {
     "end_time": "2023-10-17T07:37:55.009057300Z",
     "start_time": "2023-10-17T07:37:54.982073100Z"
    }
   },
   "id": "8ee7a1c508a5764d"
  },
  {
   "cell_type": "markdown",
   "source": [
    "### 可以用[-1]选择最后一个元素， 可以用[1:3]选择第二个和第三个元素"
   ],
   "metadata": {
    "collapsed": false
   },
   "id": "8d7f81ad6ee7799e"
  },
  {
   "cell_type": "code",
   "execution_count": 33,
   "outputs": [
    {
     "data": {
      "text/plain": "(tensor([ 8.,  9., 10., 11.]),\n tensor([[ 4.,  5.,  6.,  7.],\n         [ 8.,  9., 10., 11.]]))"
     },
     "execution_count": 33,
     "metadata": {},
     "output_type": "execute_result"
    }
   ],
   "source": [
    "X[-1], X[1:3]"
   ],
   "metadata": {
    "collapsed": false,
    "ExecuteTime": {
     "end_time": "2023-10-17T07:38:56.884111700Z",
     "start_time": "2023-10-17T07:38:56.837114500Z"
    }
   },
   "id": "46500e4a49cfe261"
  },
  {
   "cell_type": "code",
   "execution_count": 39,
   "outputs": [
    {
     "data": {
      "text/plain": "tensor([[ 0.,  1.,  2.,  3.],\n        [ 4.,  5.,  9.,  7.],\n        [ 8.,  9., 10., 11.]])"
     },
     "execution_count": 39,
     "metadata": {},
     "output_type": "execute_result"
    }
   ],
   "source": [
    "X[1,2] = 9 # X[1][2] = 9 效果相同\n",
    "X"
   ],
   "metadata": {
    "collapsed": false,
    "ExecuteTime": {
     "end_time": "2023-10-17T07:40:43.095046200Z",
     "start_time": "2023-10-17T07:40:43.064106800Z"
    }
   },
   "id": "542faf49e2d2fcc8"
  },
  {
   "cell_type": "markdown",
   "source": [
    "### 为多个元素赋值相同的值，只需要索引所有元素"
   ],
   "metadata": {
    "collapsed": false
   },
   "id": "ba9f52664b12a1a2"
  },
  {
   "cell_type": "code",
   "execution_count": 40,
   "outputs": [
    {
     "data": {
      "text/plain": "tensor([[12., 12., 12., 12.],\n        [12., 12., 12., 12.],\n        [ 8.,  9., 10., 11.]])"
     },
     "execution_count": 40,
     "metadata": {},
     "output_type": "execute_result"
    }
   ],
   "source": [
    "X[0:2, :] = 12\n",
    "X"
   ],
   "metadata": {
    "collapsed": false,
    "ExecuteTime": {
     "end_time": "2023-10-17T07:41:39.404254800Z",
     "start_time": "2023-10-17T07:41:39.371232200Z"
    }
   },
   "id": "fc14d75464e54043"
  },
  {
   "cell_type": "markdown",
   "source": [
    "### 运行一些操作可能会导致为新结果分配内存"
   ],
   "metadata": {
    "collapsed": false
   },
   "id": "248b7c08c51168aa"
  },
  {
   "cell_type": "code",
   "execution_count": 41,
   "outputs": [
    {
     "data": {
      "text/plain": "tensor([[False, False, False, False],\n        [False, False, False, False],\n        [False, False, False, False]])"
     },
     "execution_count": 41,
     "metadata": {},
     "output_type": "execute_result"
    }
   ],
   "source": [
    "before = id(Y)\n",
    "Y = Y + X\n",
    "Y == before"
   ],
   "metadata": {
    "collapsed": false,
    "ExecuteTime": {
     "end_time": "2023-10-17T07:43:39.070547800Z",
     "start_time": "2023-10-17T07:43:39.050548500Z"
    }
   },
   "id": "e9a37762f762ce47"
  },
  {
   "cell_type": "markdown",
   "source": [
    "### 执行原地操作"
   ],
   "metadata": {
    "collapsed": false
   },
   "id": "429e6c319be887d2"
  },
  {
   "cell_type": "code",
   "execution_count": 42,
   "outputs": [
    {
     "name": "stdout",
     "output_type": "stream",
     "text": [
      "id(Z): 1701651217368\n",
      "id(Z): 1701651217368\n"
     ]
    }
   ],
   "source": [
    "Z = torch.zeros_like(Y)\n",
    "print('id(Z):', id(Z))\n",
    "Z[:] = X + Y\n",
    "print('id(Z):', id(Z))"
   ],
   "metadata": {
    "collapsed": false,
    "ExecuteTime": {
     "end_time": "2023-10-17T07:45:54.725126600Z",
     "start_time": "2023-10-17T07:45:54.684126400Z"
    }
   },
   "id": "d2f20ac7d0fe5323"
  },
  {
   "cell_type": "code",
   "execution_count": 43,
   "outputs": [
    {
     "data": {
      "text/plain": "True"
     },
     "execution_count": 43,
     "metadata": {},
     "output_type": "execute_result"
    }
   ],
   "source": [
    "# 如果后续计算没有重复使用X的话，可以使用X[:] = X + Y, X += Y,减少内存开销\n",
    "before = id(X)\n",
    "X += Y\n",
    "id(X) == before"
   ],
   "metadata": {
    "collapsed": false,
    "ExecuteTime": {
     "end_time": "2023-10-17T07:47:31.033214700Z",
     "start_time": "2023-10-17T07:47:30.983182600Z"
    }
   },
   "id": "8fde77a2b33207fc"
  },
  {
   "cell_type": "markdown",
   "source": [
    "### 转换为numpy张量"
   ],
   "metadata": {
    "collapsed": false
   },
   "id": "a6ce9aa7f561abb3"
  },
  {
   "cell_type": "code",
   "execution_count": 44,
   "outputs": [
    {
     "data": {
      "text/plain": "(numpy.ndarray, torch.Tensor)"
     },
     "execution_count": 44,
     "metadata": {},
     "output_type": "execute_result"
    }
   ],
   "source": [
    "A = X.numpy()\n",
    "B = torch.tensor(A)\n",
    "type(A), type(B)"
   ],
   "metadata": {
    "collapsed": false,
    "ExecuteTime": {
     "end_time": "2023-10-17T07:49:56.789037900Z",
     "start_time": "2023-10-17T07:49:56.763038700Z"
    }
   },
   "id": "e3b9a1a79d04d986"
  },
  {
   "cell_type": "markdown",
   "source": [
    "###  将大小为1的张量转换为python标量"
   ],
   "metadata": {
    "collapsed": false
   },
   "id": "bed1bf4526d928be"
  },
  {
   "cell_type": "code",
   "execution_count": 45,
   "outputs": [
    {
     "data": {
      "text/plain": "(tensor([3.5000]), 3.5, 3.5, 3)"
     },
     "execution_count": 45,
     "metadata": {},
     "output_type": "execute_result"
    }
   ],
   "source": [
    "a = torch.tensor([3.5])\n",
    "a, a.item(), float(a), int(a)"
   ],
   "metadata": {
    "collapsed": false,
    "ExecuteTime": {
     "end_time": "2023-10-17T07:51:20.369902700Z",
     "start_time": "2023-10-17T07:51:20.290850500Z"
    }
   },
   "id": "7e3d1da361e539f5"
  },
  {
   "cell_type": "code",
   "execution_count": null,
   "outputs": [],
   "source": [],
   "metadata": {
    "collapsed": false
   },
   "id": "5b8b5da1c5eac2f0"
  }
 ],
 "metadata": {
  "kernelspec": {
   "display_name": "Python 3",
   "language": "python",
   "name": "python3"
  },
  "language_info": {
   "codemirror_mode": {
    "name": "ipython",
    "version": 2
   },
   "file_extension": ".py",
   "mimetype": "text/x-python",
   "name": "python",
   "nbconvert_exporter": "python",
   "pygments_lexer": "ipython2",
   "version": "2.7.6"
  }
 },
 "nbformat": 4,
 "nbformat_minor": 5
}
