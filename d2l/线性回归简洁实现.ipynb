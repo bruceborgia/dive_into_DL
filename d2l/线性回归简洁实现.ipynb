{
 "cells": [
  {
   "cell_type": "code",
   "execution_count": 42,
   "id": "initial_id",
   "metadata": {
    "collapsed": true,
    "ExecuteTime": {
     "end_time": "2023-10-19T03:20:10.518465500Z",
     "start_time": "2023-10-19T03:20:10.494466700Z"
    }
   },
   "outputs": [],
   "source": [
    "import torch\n",
    "import numpy as np\n",
    "from torch.utils import data\n",
    "from d2l import torch as d2l"
   ]
  },
  {
   "cell_type": "code",
   "execution_count": 43,
   "outputs": [],
   "source": [
    "true_w = torch.tensor([2, -3.4])\n",
    "true_b = 4.2\n",
    "features, labels = d2l.synthetic_data(true_w, true_b, 1000)"
   ],
   "metadata": {
    "collapsed": false,
    "ExecuteTime": {
     "end_time": "2023-10-19T03:20:10.812400700Z",
     "start_time": "2023-10-19T03:20:10.787625300Z"
    }
   },
   "id": "5306cd984fe26ce7"
  },
  {
   "cell_type": "code",
   "execution_count": 44,
   "outputs": [
    {
     "data": {
      "text/plain": "[tensor([[-1.6939, -0.7471],\n         [ 0.0506, -0.6278],\n         [-0.0990,  2.7280],\n         [-0.2214,  0.0546],\n         [-1.1329, -1.2012],\n         [-0.3771, -1.0074],\n         [ 0.4620, -1.2407],\n         [-0.0691,  0.7049],\n         [-0.1421,  0.0594],\n         [-0.0303, -1.0961]]),\n tensor([[ 3.3592],\n         [ 6.4301],\n         [-5.2793],\n         [ 3.5783],\n         [ 6.0106],\n         [ 6.8840],\n         [ 9.3507],\n         [ 1.6721],\n         [ 3.7167],\n         [ 7.8686]])]"
     },
     "execution_count": 44,
     "metadata": {},
     "output_type": "execute_result"
    }
   ],
   "source": [
    "def load_array(data_arrays, batch_size, is_train=True):\n",
    "    \"\"\"构造一个pytorch数据迭代器\"\"\"\n",
    "    dataset = data.TensorDataset(*data_arrays)\n",
    "    return data.DataLoader(dataset, batch_size, shuffle=is_train)\n",
    "\n",
    "batch_size = 10\n",
    "data_iter = load_array((features, labels), batch_size)\n",
    "\n",
    "next(iter(data_iter))"
   ],
   "metadata": {
    "collapsed": false,
    "ExecuteTime": {
     "end_time": "2023-10-19T03:20:11.069422Z",
     "start_time": "2023-10-19T03:20:11.051422600Z"
    }
   },
   "id": "e31e0456be3a4944"
  },
  {
   "cell_type": "markdown",
   "source": [
    "# 使用框架的预定义好的层"
   ],
   "metadata": {
    "collapsed": false
   },
   "id": "9e860a10c8add1b7"
  },
  {
   "cell_type": "code",
   "execution_count": 45,
   "outputs": [],
   "source": [
    "# nn是神经网络缩写 neural network\n",
    "from torch import nn\n",
    "net = nn.Sequential(nn.Linear(2, 1))"
   ],
   "metadata": {
    "collapsed": false,
    "ExecuteTime": {
     "end_time": "2023-10-19T03:20:11.838293300Z",
     "start_time": "2023-10-19T03:20:11.825156Z"
    }
   },
   "id": "fce7fb21775f4c15"
  },
  {
   "cell_type": "markdown",
   "source": [
    "# 初始化模型参数\n"
   ],
   "metadata": {
    "collapsed": false
   },
   "id": "be079082817c08cd"
  },
  {
   "cell_type": "code",
   "execution_count": 46,
   "outputs": [
    {
     "data": {
      "text/plain": "tensor([0.])"
     },
     "execution_count": 46,
     "metadata": {},
     "output_type": "execute_result"
    }
   ],
   "source": [
    "net[0].weight.data.normal_(0, 0.01) # 使用正态分布替换data的值\n",
    "net[0].bias.data.fill_(0) # 使用0替换bias 偏差值"
   ],
   "metadata": {
    "collapsed": false,
    "ExecuteTime": {
     "end_time": "2023-10-19T03:20:12.609665300Z",
     "start_time": "2023-10-19T03:20:12.543434300Z"
    }
   },
   "id": "ee1e57ed645a02af"
  },
  {
   "cell_type": "markdown",
   "source": [
    "### 计算均方误差使用MSELoss类, 也称为L2范数"
   ],
   "metadata": {
    "collapsed": false
   },
   "id": "3517f469d791d43d"
  },
  {
   "cell_type": "code",
   "execution_count": 47,
   "outputs": [],
   "source": [
    "loss = nn.MSELoss()"
   ],
   "metadata": {
    "collapsed": false,
    "ExecuteTime": {
     "end_time": "2023-10-19T03:20:13.244383700Z",
     "start_time": "2023-10-19T03:20:13.229383400Z"
    }
   },
   "id": "9738f4182389e0c8"
  },
  {
   "cell_type": "markdown",
   "source": [
    "### 实例化sgd实例"
   ],
   "metadata": {
    "collapsed": false
   },
   "id": "69d971319479bb6d"
  },
  {
   "cell_type": "code",
   "execution_count": 48,
   "outputs": [],
   "source": [
    "trainer = torch.optim.SGD(net.parameters(), lr=0.03)"
   ],
   "metadata": {
    "collapsed": false,
    "ExecuteTime": {
     "end_time": "2023-10-19T03:20:14.868430200Z",
     "start_time": "2023-10-19T03:20:14.853431400Z"
    }
   },
   "id": "1e542404c328f454"
  },
  {
   "cell_type": "markdown",
   "source": [
    "### 训练"
   ],
   "metadata": {
    "collapsed": false
   },
   "id": "873f8f6e492c3ff6"
  },
  {
   "cell_type": "code",
   "execution_count": 49,
   "outputs": [
    {
     "name": "stdout",
     "output_type": "stream",
     "text": [
      "epoch1, loss 0.000211\n",
      "epoch2, loss 0.000094\n",
      "epoch3, loss 0.000093\n"
     ]
    }
   ],
   "source": [
    "num_epochs = 3\n",
    "for epoch in range(num_epochs):\n",
    "    for X, y in data_iter:\n",
    "        l = loss(net(X), y)\n",
    "        trainer.zero_grad()\n",
    "        l.backward()\n",
    "        trainer.step() # 更新一次参数\n",
    "    l = loss(net(features), labels)\n",
    "    print(f'epoch{epoch + 1}, loss {l:f}')"
   ],
   "metadata": {
    "collapsed": false,
    "ExecuteTime": {
     "end_time": "2023-10-19T03:20:19.426849100Z",
     "start_time": "2023-10-19T03:20:19.269827100Z"
    }
   },
   "id": "7e9274e07a039101"
  },
  {
   "cell_type": "code",
   "execution_count": null,
   "outputs": [],
   "source": [],
   "metadata": {
    "collapsed": false
   },
   "id": "47860cb936b3d70b"
  }
 ],
 "metadata": {
  "kernelspec": {
   "display_name": "Python 3",
   "language": "python",
   "name": "python3"
  },
  "language_info": {
   "codemirror_mode": {
    "name": "ipython",
    "version": 2
   },
   "file_extension": ".py",
   "mimetype": "text/x-python",
   "name": "python",
   "nbconvert_exporter": "python",
   "pygments_lexer": "ipython2",
   "version": "2.7.6"
  }
 },
 "nbformat": 4,
 "nbformat_minor": 5
}
