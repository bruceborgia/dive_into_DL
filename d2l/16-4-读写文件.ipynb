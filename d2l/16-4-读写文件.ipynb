{
 "cells": [
  {
   "cell_type": "markdown",
   "source": [
    "# 读写文件"
   ],
   "metadata": {
    "collapsed": false
   },
   "id": "3b6c79310b90cd46"
  },
  {
   "cell_type": "code",
   "execution_count": 1,
   "outputs": [],
   "source": [
    "import  torch\n",
    "from torch import nn\n",
    "from torch.nn import functional as F"
   ],
   "metadata": {
    "collapsed": false,
    "ExecuteTime": {
     "end_time": "2023-10-27T08:52:06.003759400Z",
     "start_time": "2023-10-27T08:52:04.077940900Z"
    }
   },
   "id": "3a45cd1d54763df4"
  },
  {
   "cell_type": "code",
   "execution_count": 3,
   "outputs": [],
   "source": [
    "x = torch.arange(4)\n",
    "torch.save(x, '../data/x-file')"
   ],
   "metadata": {
    "collapsed": false,
    "ExecuteTime": {
     "end_time": "2023-10-27T08:53:11.759233900Z",
     "start_time": "2023-10-27T08:53:11.741051900Z"
    }
   },
   "id": "999a70c3d8bce114"
  },
  {
   "cell_type": "code",
   "execution_count": 4,
   "outputs": [
    {
     "data": {
      "text/plain": "tensor([0, 1, 2, 3])"
     },
     "execution_count": 4,
     "metadata": {},
     "output_type": "execute_result"
    }
   ],
   "source": [
    "x2 = torch.load('../data/x-file')\n",
    "x2"
   ],
   "metadata": {
    "collapsed": false,
    "ExecuteTime": {
     "end_time": "2023-10-27T08:53:48.365267500Z",
     "start_time": "2023-10-27T08:53:48.308270800Z"
    }
   },
   "id": "e8fca935c450fbd5"
  },
  {
   "cell_type": "markdown",
   "source": [
    "## 存储一个张量列表，然后把他们读回内存"
   ],
   "metadata": {
    "collapsed": false
   },
   "id": "94fb6b683e412724"
  },
  {
   "cell_type": "code",
   "execution_count": 6,
   "outputs": [
    {
     "data": {
      "text/plain": "(tensor([0, 1, 2, 3]), tensor([0., 0., 0., 0.]))"
     },
     "execution_count": 6,
     "metadata": {},
     "output_type": "execute_result"
    }
   ],
   "source": [
    "y = torch.zeros(4)\n",
    "torch.save([x, y], '../data/x-files')\n",
    "x2, y2 = torch.load('../data/x-files')\n",
    "(x2, y2)"
   ],
   "metadata": {
    "collapsed": false,
    "ExecuteTime": {
     "end_time": "2023-10-27T08:57:08.438718200Z",
     "start_time": "2023-10-27T08:57:08.376125500Z"
    }
   },
   "id": "7ced51e0e0e26e32"
  },
  {
   "cell_type": "markdown",
   "source": [
    "## 字典存储"
   ],
   "metadata": {
    "collapsed": false
   },
   "id": "2f2c0aecb8b145b6"
  },
  {
   "cell_type": "code",
   "execution_count": 7,
   "outputs": [
    {
     "data": {
      "text/plain": "{'x': tensor([0, 1, 2, 3]), 'y': tensor([0., 0., 0., 0.])}"
     },
     "execution_count": 7,
     "metadata": {},
     "output_type": "execute_result"
    }
   ],
   "source": [
    "mydict = {'x':x, 'y': y}\n",
    "torch.save(mydict, '../data/mydict')\n",
    "mydict2 = torch.load('../data/mydict')\n",
    "mydict2"
   ],
   "metadata": {
    "collapsed": false,
    "ExecuteTime": {
     "end_time": "2023-10-27T08:58:52.754529300Z",
     "start_time": "2023-10-27T08:58:52.715233Z"
    }
   },
   "id": "86f4e1cfca3f627a"
  },
  {
   "cell_type": "markdown",
   "source": [
    "# 加载和保存模型参数"
   ],
   "metadata": {
    "collapsed": false
   },
   "id": "ab5906b4339bb826"
  },
  {
   "cell_type": "code",
   "execution_count": 9,
   "outputs": [],
   "source": [
    "class MLP(nn.Module):\n",
    "    def __init__(self):\n",
    "        super().__init__()\n",
    "        self.linear1 = nn.Linear(20, 256)\n",
    "        self.output = nn.Linear(256, 10)\n",
    "    \n",
    "    def forward(self, X):\n",
    "        return self.output(F.relu(self.linear1(X)))\n",
    "    \n",
    "\n",
    "net = MLP()\n",
    "X = torch.randn(size=(2, 20))\n",
    "Y = net(X)"
   ],
   "metadata": {
    "collapsed": false,
    "ExecuteTime": {
     "end_time": "2023-10-27T09:14:08.066335900Z",
     "start_time": "2023-10-27T09:14:08.038171800Z"
    }
   },
   "id": "6519990a104c9352"
  },
  {
   "cell_type": "markdown",
   "source": [
    "### 将模型参数存储为params文件"
   ],
   "metadata": {
    "collapsed": false
   },
   "id": "d6b852cb7d8b1507"
  },
  {
   "cell_type": "code",
   "execution_count": 10,
   "outputs": [],
   "source": [
    "torch.save(net.state_dict(), '../data/mlp.params')"
   ],
   "metadata": {
    "collapsed": false,
    "ExecuteTime": {
     "end_time": "2023-10-27T09:15:20.239939100Z",
     "start_time": "2023-10-27T09:15:20.212460800Z"
    }
   },
   "id": "8a559889b4225499"
  },
  {
   "cell_type": "markdown",
   "source": [
    "### 读取模型参数"
   ],
   "metadata": {
    "collapsed": false
   },
   "id": "310fbd2dec66deba"
  },
  {
   "cell_type": "code",
   "execution_count": 12,
   "outputs": [
    {
     "data": {
      "text/plain": "MLP(\n  (linear1): Linear(in_features=20, out_features=256, bias=True)\n  (output): Linear(in_features=256, out_features=10, bias=True)\n)"
     },
     "execution_count": 12,
     "metadata": {},
     "output_type": "execute_result"
    }
   ],
   "source": [
    "clone = MLP()\n",
    "clone.load_state_dict(torch.load('../data/mlp.params'))\n",
    "clone.eval()"
   ],
   "metadata": {
    "collapsed": false,
    "ExecuteTime": {
     "end_time": "2023-10-27T09:18:22.482556500Z",
     "start_time": "2023-10-27T09:18:22.416404800Z"
    }
   },
   "id": "28f1293a79aa5d77"
  },
  {
   "cell_type": "code",
   "execution_count": 13,
   "outputs": [
    {
     "data": {
      "text/plain": "tensor([[True, True, True, True, True, True, True, True, True, True],\n        [True, True, True, True, True, True, True, True, True, True]])"
     },
     "execution_count": 13,
     "metadata": {},
     "output_type": "execute_result"
    }
   ],
   "source": [
    "Y_clone = clone(X)\n",
    "Y_clone == Y"
   ],
   "metadata": {
    "collapsed": false,
    "ExecuteTime": {
     "end_time": "2023-10-27T09:19:15.476117100Z",
     "start_time": "2023-10-27T09:19:15.428611600Z"
    }
   },
   "id": "90cb1cff0947ae0"
  },
  {
   "cell_type": "code",
   "execution_count": 14,
   "outputs": [
    {
     "data": {
      "text/plain": "tensor([[-0.1388, -0.0419,  0.2481,  0.1754,  0.0093,  0.2091, -0.0193, -0.1576,\n          0.0883,  0.4084],\n        [-0.1144,  0.0574, -0.0912,  0.4150,  0.0458,  0.8084,  0.4084,  0.2400,\n          0.3969,  0.2285]], grad_fn=<AddmmBackward0>)"
     },
     "execution_count": 14,
     "metadata": {},
     "output_type": "execute_result"
    }
   ],
   "source": [
    "clone.__call__(X)"
   ],
   "metadata": {
    "collapsed": false,
    "ExecuteTime": {
     "end_time": "2023-10-27T09:23:12.576283900Z",
     "start_time": "2023-10-27T09:23:12.560031800Z"
    }
   },
   "id": "6f849064d16fc453"
  },
  {
   "cell_type": "code",
   "execution_count": null,
   "outputs": [],
   "source": [],
   "metadata": {
    "collapsed": false
   },
   "id": "d22128cd175e3cfa"
  }
 ],
 "metadata": {
  "kernelspec": {
   "display_name": "Python 3",
   "language": "python",
   "name": "python3"
  },
  "language_info": {
   "codemirror_mode": {
    "name": "ipython",
    "version": 2
   },
   "file_extension": ".py",
   "mimetype": "text/x-python",
   "name": "python",
   "nbconvert_exporter": "python",
   "pygments_lexer": "ipython2",
   "version": "2.7.6"
  }
 },
 "nbformat": 4,
 "nbformat_minor": 5
}
