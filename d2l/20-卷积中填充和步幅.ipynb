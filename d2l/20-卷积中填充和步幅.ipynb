{
 "cells": [
  {
   "cell_type": "markdown",
   "source": [
    "# 填充和步幅"
   ],
   "metadata": {
    "collapsed": false
   },
   "id": "c8ceac8640faaff0"
  },
  {
   "cell_type": "code",
   "execution_count": 1,
   "outputs": [],
   "source": [
    "import torch \n",
    "from torch import nn"
   ],
   "metadata": {
    "collapsed": false,
    "ExecuteTime": {
     "end_time": "2023-11-01T03:12:23.398554900Z",
     "start_time": "2023-11-01T03:12:19.679949700Z"
    }
   },
   "id": "361d5f1d59b93c5c"
  },
  {
   "cell_type": "code",
   "execution_count": 2,
   "outputs": [
    {
     "data": {
      "text/plain": "torch.Size([8, 8])"
     },
     "execution_count": 2,
     "metadata": {},
     "output_type": "execute_result"
    }
   ],
   "source": [
    "def comp_conv2d(conv2d, X):\n",
    "    X = X.reshape((1,1) + X.shape) # 加入通道数 和批量大小数\n",
    "    Y = conv2d(X)\n",
    "    return Y.reshape(Y.shape[2:]) # 把前两维去掉\n",
    "\n",
    "conv2d = nn.Conv2d(1, 1, kernel_size=3, padding=1)\n",
    "X = torch.rand(size=(8, 8))\n",
    "comp_conv2d(conv2d,X).shape"
   ],
   "metadata": {
    "collapsed": false,
    "ExecuteTime": {
     "end_time": "2023-11-01T03:37:13.814567800Z",
     "start_time": "2023-11-01T03:37:13.696568400Z"
    }
   },
   "id": "39e190b01972dba3"
  },
  {
   "cell_type": "markdown",
   "source": [
    "### 填充不同的高度和宽度"
   ],
   "metadata": {
    "collapsed": false
   },
   "id": "84e7daf7599a726c"
  },
  {
   "cell_type": "code",
   "execution_count": 4,
   "outputs": [
    {
     "data": {
      "text/plain": "torch.Size([8, 8])"
     },
     "execution_count": 4,
     "metadata": {},
     "output_type": "execute_result"
    }
   ],
   "source": [
    "conv2d == nn.Conv2d(1, 1, kernel_size=(5, 3), padding=(2, 1))\n",
    "comp_conv2d(conv2d, X).shape"
   ],
   "metadata": {
    "collapsed": false,
    "ExecuteTime": {
     "end_time": "2023-11-01T06:17:16.778142600Z",
     "start_time": "2023-11-01T06:17:16.726155700Z"
    }
   },
   "id": "88514bdb59ed0d5c"
  },
  {
   "cell_type": "markdown",
   "source": [
    "### 将高度宽度和步幅设置为2"
   ],
   "metadata": {
    "collapsed": false
   },
   "id": "fcfa6f3a3d28c0ee"
  },
  {
   "cell_type": "code",
   "execution_count": 6,
   "outputs": [
    {
     "data": {
      "text/plain": "torch.Size([4, 4])"
     },
     "execution_count": 6,
     "metadata": {},
     "output_type": "execute_result"
    }
   ],
   "source": [
    "conv2d = nn.Conv2d(1, 1, kernel_size=3, padding=1, stride=2)\n",
    "comp_conv2d(conv2d, X).shape"
   ],
   "metadata": {
    "collapsed": false,
    "ExecuteTime": {
     "end_time": "2023-11-01T06:21:01.535027900Z",
     "start_time": "2023-11-01T06:21:01.521036300Z"
    }
   },
   "id": "55e44cdeccc92f70"
  },
  {
   "cell_type": "markdown",
   "source": [
    "### 复杂情况"
   ],
   "metadata": {
    "collapsed": false
   },
   "id": "724f119415dbe04a"
  },
  {
   "cell_type": "code",
   "execution_count": 8,
   "outputs": [
    {
     "data": {
      "text/plain": "torch.Size([2, 2])"
     },
     "execution_count": 8,
     "metadata": {},
     "output_type": "execute_result"
    }
   ],
   "source": [
    "conv2d = nn.Conv2d(1, 1, kernel_size=(3, 5), padding=(0, 1), stride=(3,4))\n",
    "comp_conv2d(conv2d, X).shape"
   ],
   "metadata": {
    "collapsed": false,
    "ExecuteTime": {
     "end_time": "2023-11-01T06:29:32.987396200Z",
     "start_time": "2023-11-01T06:29:32.962397700Z"
    }
   },
   "id": "89d23bd181e8456d"
  },
  {
   "cell_type": "code",
   "execution_count": null,
   "outputs": [],
   "source": [],
   "metadata": {
    "collapsed": false
   },
   "id": "9589454a789997df"
  }
 ],
 "metadata": {
  "kernelspec": {
   "display_name": "Python 3",
   "language": "python",
   "name": "python3"
  },
  "language_info": {
   "codemirror_mode": {
    "name": "ipython",
    "version": 2
   },
   "file_extension": ".py",
   "mimetype": "text/x-python",
   "name": "python",
   "nbconvert_exporter": "python",
   "pygments_lexer": "ipython2",
   "version": "2.7.6"
  }
 },
 "nbformat": 4,
 "nbformat_minor": 5
}
