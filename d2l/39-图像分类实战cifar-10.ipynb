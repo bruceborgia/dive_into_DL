{
 "cells": [
  {
   "cell_type": "code",
   "execution_count": 1,
   "outputs": [],
   "source": [
    "import collections\n",
    "import math\n",
    "import os\n",
    "import shutil\n",
    "import pandas as pd\n",
    "import torch\n",
    "import torchvision\n",
    "from torch import nn\n",
    "from d2l import torch as d2l"
   ],
   "metadata": {
    "collapsed": false,
    "pycharm": {
     "name": "#%%\n"
    }
   }
  },
  {
   "cell_type": "markdown",
   "source": [
    "match web: https://www.kaggle.com/competitions/cifar-10/data?select=trainLabels.csv"
   ],
   "metadata": {
    "collapsed": false,
    "pycharm": {
     "name": "#%% md\n"
    }
   }
  },
  {
   "cell_type": "code",
   "execution_count": 3,
   "outputs": [],
   "source": [
    "#@save\n",
    "d2l.DATA_HUB['cifar10_tiny'] = (d2l.DATA_URL + 'kaggle_cifar10_tiny.zip',\n",
    "                                '2068874e4b9a9f0fb07ebe0ad2b29754449ccacd')\n",
    "\n",
    "# 如果使用完整的Kaggle竞赛的数据集，设置demo为False\n",
    "demo = True\n",
    "\n",
    "if demo:\n",
    "    data_dir = d2l.download_extract('cifar10_tiny')\n",
    "else:\n",
    "    data_dir = '../data/cifar-10/'"
   ],
   "metadata": {
    "collapsed": false,
    "pycharm": {
     "name": "#%%\n"
    }
   }
  },
  {
   "cell_type": "markdown",
   "source": [
    "# 整理数据集"
   ],
   "metadata": {
    "collapsed": false,
    "pycharm": {
     "name": "#%% md\n"
    }
   }
  },
  {
   "cell_type": "code",
   "execution_count": 4,
   "outputs": [],
   "source": [
    "def read_csv_labels(fname):\n",
    "    \"\"\"读取 fname 来给标签字典返回 folder name\"\"\"\n",
    "    with open(fname, 'r') as f:\n",
    "        lines = f.readlines()[1:]\n",
    "        token = (l.rstrip().split(',') for l in lines)\n",
    "        return dict(((name, label) for name, label in token))"
   ],
   "metadata": {
    "collapsed": false,
    "pycharm": {
     "name": "#%%\n"
    }
   }
  },
  {
   "cell_type": "code",
   "execution_count": 7,
   "outputs": [
    {
     "name": "stdout",
     "output_type": "stream",
     "text": [
      "# 训练样本 : 1000\n",
      "# 类别 : 10\n"
     ]
    },
    {
     "data": {
      "text/plain": "{'1': 'frog',\n '2': 'truck',\n '3': 'truck',\n '4': 'deer',\n '5': 'automobile',\n '6': 'automobile',\n '7': 'bird',\n '8': 'horse',\n '9': 'ship',\n '10': 'cat',\n '11': 'deer',\n '12': 'horse',\n '13': 'horse',\n '14': 'bird',\n '15': 'truck',\n '16': 'truck',\n '17': 'truck',\n '18': 'cat',\n '19': 'bird',\n '20': 'frog',\n '21': 'deer',\n '22': 'cat',\n '23': 'frog',\n '24': 'frog',\n '25': 'bird',\n '26': 'frog',\n '27': 'cat',\n '28': 'dog',\n '29': 'deer',\n '30': 'airplane',\n '31': 'airplane',\n '32': 'truck',\n '33': 'automobile',\n '34': 'cat',\n '35': 'deer',\n '36': 'airplane',\n '37': 'cat',\n '38': 'horse',\n '39': 'cat',\n '40': 'cat',\n '41': 'dog',\n '42': 'bird',\n '43': 'bird',\n '44': 'horse',\n '45': 'automobile',\n '46': 'automobile',\n '47': 'automobile',\n '48': 'bird',\n '49': 'bird',\n '50': 'airplane',\n '51': 'truck',\n '52': 'dog',\n '53': 'horse',\n '54': 'truck',\n '55': 'bird',\n '56': 'bird',\n '57': 'dog',\n '58': 'bird',\n '59': 'deer',\n '60': 'cat',\n '61': 'automobile',\n '62': 'automobile',\n '63': 'ship',\n '64': 'bird',\n '65': 'automobile',\n '66': 'automobile',\n '67': 'deer',\n '68': 'truck',\n '69': 'horse',\n '70': 'ship',\n '71': 'dog',\n '72': 'truck',\n '73': 'frog',\n '74': 'horse',\n '75': 'cat',\n '76': 'automobile',\n '77': 'truck',\n '78': 'airplane',\n '79': 'cat',\n '80': 'automobile',\n '81': 'cat',\n '82': 'dog',\n '83': 'deer',\n '84': 'dog',\n '85': 'horse',\n '86': 'horse',\n '87': 'deer',\n '88': 'horse',\n '89': 'truck',\n '90': 'deer',\n '91': 'bird',\n '92': 'cat',\n '93': 'ship',\n '94': 'airplane',\n '95': 'automobile',\n '96': 'frog',\n '97': 'automobile',\n '98': 'automobile',\n '99': 'deer',\n '100': 'automobile',\n '101': 'ship',\n '102': 'cat',\n '103': 'truck',\n '104': 'frog',\n '105': 'frog',\n '106': 'automobile',\n '107': 'ship',\n '108': 'dog',\n '109': 'bird',\n '110': 'truck',\n '111': 'truck',\n '112': 'ship',\n '113': 'automobile',\n '114': 'horse',\n '115': 'horse',\n '116': 'airplane',\n '117': 'airplane',\n '118': 'frog',\n '119': 'truck',\n '120': 'automobile',\n '121': 'bird',\n '122': 'bird',\n '123': 'truck',\n '124': 'bird',\n '125': 'frog',\n '126': 'frog',\n '127': 'automobile',\n '128': 'truck',\n '129': 'dog',\n '130': 'airplane',\n '131': 'deer',\n '132': 'horse',\n '133': 'frog',\n '134': 'horse',\n '135': 'automobile',\n '136': 'ship',\n '137': 'automobile',\n '138': 'automobile',\n '139': 'bird',\n '140': 'ship',\n '141': 'automobile',\n '142': 'cat',\n '143': 'cat',\n '144': 'frog',\n '145': 'bird',\n '146': 'deer',\n '147': 'truck',\n '148': 'truck',\n '149': 'dog',\n '150': 'deer',\n '151': 'cat',\n '152': 'frog',\n '153': 'horse',\n '154': 'deer',\n '155': 'frog',\n '156': 'ship',\n '157': 'dog',\n '158': 'dog',\n '159': 'deer',\n '160': 'cat',\n '161': 'automobile',\n '162': 'ship',\n '163': 'deer',\n '164': 'horse',\n '165': 'frog',\n '166': 'airplane',\n '167': 'truck',\n '168': 'dog',\n '169': 'automobile',\n '170': 'cat',\n '171': 'ship',\n '172': 'bird',\n '173': 'horse',\n '174': 'dog',\n '175': 'cat',\n '176': 'deer',\n '177': 'automobile',\n '178': 'dog',\n '179': 'horse',\n '180': 'airplane',\n '181': 'deer',\n '182': 'horse',\n '183': 'dog',\n '184': 'dog',\n '185': 'automobile',\n '186': 'airplane',\n '187': 'truck',\n '188': 'frog',\n '189': 'truck',\n '190': 'airplane',\n '191': 'ship',\n '192': 'horse',\n '193': 'ship',\n '194': 'ship',\n '195': 'bird',\n '196': 'dog',\n '197': 'bird',\n '198': 'cat',\n '199': 'dog',\n '200': 'airplane',\n '201': 'frog',\n '202': 'automobile',\n '203': 'truck',\n '204': 'cat',\n '205': 'frog',\n '206': 'truck',\n '207': 'automobile',\n '208': 'cat',\n '209': 'truck',\n '210': 'frog',\n '211': 'frog',\n '212': 'horse',\n '213': 'automobile',\n '214': 'airplane',\n '215': 'truck',\n '216': 'dog',\n '217': 'ship',\n '218': 'dog',\n '219': 'bird',\n '220': 'truck',\n '221': 'airplane',\n '222': 'ship',\n '223': 'ship',\n '224': 'airplane',\n '225': 'frog',\n '226': 'truck',\n '227': 'automobile',\n '228': 'automobile',\n '229': 'frog',\n '230': 'cat',\n '231': 'horse',\n '232': 'frog',\n '233': 'frog',\n '234': 'airplane',\n '235': 'frog',\n '236': 'frog',\n '237': 'automobile',\n '238': 'horse',\n '239': 'automobile',\n '240': 'dog',\n '241': 'ship',\n '242': 'cat',\n '243': 'frog',\n '244': 'frog',\n '245': 'ship',\n '246': 'frog',\n '247': 'ship',\n '248': 'deer',\n '249': 'frog',\n '250': 'frog',\n '251': 'automobile',\n '252': 'cat',\n '253': 'ship',\n '254': 'cat',\n '255': 'deer',\n '256': 'automobile',\n '257': 'horse',\n '258': 'automobile',\n '259': 'cat',\n '260': 'ship',\n '261': 'dog',\n '262': 'automobile',\n '263': 'automobile',\n '264': 'deer',\n '265': 'airplane',\n '266': 'truck',\n '267': 'cat',\n '268': 'horse',\n '269': 'deer',\n '270': 'truck',\n '271': 'truck',\n '272': 'bird',\n '273': 'deer',\n '274': 'truck',\n '275': 'truck',\n '276': 'automobile',\n '277': 'airplane',\n '278': 'dog',\n '279': 'truck',\n '280': 'airplane',\n '281': 'ship',\n '282': 'bird',\n '283': 'automobile',\n '284': 'bird',\n '285': 'airplane',\n '286': 'dog',\n '287': 'frog',\n '288': 'cat',\n '289': 'bird',\n '290': 'horse',\n '291': 'ship',\n '292': 'ship',\n '293': 'frog',\n '294': 'airplane',\n '295': 'horse',\n '296': 'truck',\n '297': 'deer',\n '298': 'dog',\n '299': 'frog',\n '300': 'deer',\n '301': 'bird',\n '302': 'automobile',\n '303': 'automobile',\n '304': 'bird',\n '305': 'automobile',\n '306': 'dog',\n '307': 'truck',\n '308': 'truck',\n '309': 'airplane',\n '310': 'ship',\n '311': 'deer',\n '312': 'automobile',\n '313': 'automobile',\n '314': 'frog',\n '315': 'cat',\n '316': 'cat',\n '317': 'truck',\n '318': 'airplane',\n '319': 'horse',\n '320': 'truck',\n '321': 'horse',\n '322': 'horse',\n '323': 'truck',\n '324': 'automobile',\n '325': 'dog',\n '326': 'automobile',\n '327': 'frog',\n '328': 'frog',\n '329': 'ship',\n '330': 'horse',\n '331': 'automobile',\n '332': 'cat',\n '333': 'airplane',\n '334': 'cat',\n '335': 'cat',\n '336': 'bird',\n '337': 'deer',\n '338': 'dog',\n '339': 'horse',\n '340': 'dog',\n '341': 'truck',\n '342': 'airplane',\n '343': 'cat',\n '344': 'deer',\n '345': 'airplane',\n '346': 'deer',\n '347': 'deer',\n '348': 'frog',\n '349': 'airplane',\n '350': 'airplane',\n '351': 'frog',\n '352': 'frog',\n '353': 'airplane',\n '354': 'ship',\n '355': 'automobile',\n '356': 'frog',\n '357': 'bird',\n '358': 'truck',\n '359': 'bird',\n '360': 'dog',\n '361': 'truck',\n '362': 'frog',\n '363': 'horse',\n '364': 'deer',\n '365': 'automobile',\n '366': 'ship',\n '367': 'horse',\n '368': 'cat',\n '369': 'frog',\n '370': 'truck',\n '371': 'cat',\n '372': 'airplane',\n '373': 'deer',\n '374': 'airplane',\n '375': 'dog',\n '376': 'automobile',\n '377': 'airplane',\n '378': 'cat',\n '379': 'deer',\n '380': 'ship',\n '381': 'dog',\n '382': 'deer',\n '383': 'horse',\n '384': 'bird',\n '385': 'cat',\n '386': 'truck',\n '387': 'horse',\n '388': 'frog',\n '389': 'horse',\n '390': 'automobile',\n '391': 'deer',\n '392': 'horse',\n '393': 'airplane',\n '394': 'automobile',\n '395': 'horse',\n '396': 'cat',\n '397': 'automobile',\n '398': 'ship',\n '399': 'deer',\n '400': 'deer',\n '401': 'bird',\n '402': 'airplane',\n '403': 'bird',\n '404': 'bird',\n '405': 'airplane',\n '406': 'airplane',\n '407': 'truck',\n '408': 'airplane',\n '409': 'truck',\n '410': 'frog',\n '411': 'ship',\n '412': 'bird',\n '413': 'horse',\n '414': 'horse',\n '415': 'deer',\n '416': 'airplane',\n '417': 'cat',\n '418': 'airplane',\n '419': 'ship',\n '420': 'truck',\n '421': 'deer',\n '422': 'bird',\n '423': 'horse',\n '424': 'bird',\n '425': 'dog',\n '426': 'bird',\n '427': 'dog',\n '428': 'automobile',\n '429': 'truck',\n '430': 'deer',\n '431': 'ship',\n '432': 'dog',\n '433': 'automobile',\n '434': 'horse',\n '435': 'deer',\n '436': 'deer',\n '437': 'airplane',\n '438': 'frog',\n '439': 'truck',\n '440': 'airplane',\n '441': 'horse',\n '442': 'ship',\n '443': 'ship',\n '444': 'truck',\n '445': 'truck',\n '446': 'cat',\n '447': 'cat',\n '448': 'deer',\n '449': 'airplane',\n '450': 'deer',\n '451': 'dog',\n '452': 'frog',\n '453': 'frog',\n '454': 'airplane',\n '455': 'automobile',\n '456': 'airplane',\n '457': 'ship',\n '458': 'airplane',\n '459': 'deer',\n '460': 'ship',\n '461': 'ship',\n '462': 'automobile',\n '463': 'dog',\n '464': 'bird',\n '465': 'frog',\n '466': 'ship',\n '467': 'automobile',\n '468': 'airplane',\n '469': 'airplane',\n '470': 'horse',\n '471': 'horse',\n '472': 'dog',\n '473': 'truck',\n '474': 'frog',\n '475': 'bird',\n '476': 'ship',\n '477': 'cat',\n '478': 'deer',\n '479': 'horse',\n '480': 'cat',\n '481': 'truck',\n '482': 'airplane',\n '483': 'automobile',\n '484': 'bird',\n '485': 'deer',\n '486': 'ship',\n '487': 'automobile',\n '488': 'ship',\n '489': 'frog',\n '490': 'deer',\n '491': 'deer',\n '492': 'dog',\n '493': 'horse',\n '494': 'automobile',\n '495': 'cat',\n '496': 'truck',\n '497': 'ship',\n '498': 'airplane',\n '499': 'automobile',\n '500': 'horse',\n '501': 'dog',\n '502': 'ship',\n '503': 'bird',\n '504': 'ship',\n '505': 'airplane',\n '506': 'deer',\n '507': 'automobile',\n '508': 'ship',\n '509': 'truck',\n '510': 'ship',\n '511': 'bird',\n '512': 'truck',\n '513': 'truck',\n '514': 'bird',\n '515': 'horse',\n '516': 'dog',\n '517': 'horse',\n '518': 'cat',\n '519': 'ship',\n '520': 'ship',\n '521': 'deer',\n '522': 'deer',\n '523': 'bird',\n '524': 'horse',\n '525': 'automobile',\n '526': 'frog',\n '527': 'deer',\n '528': 'airplane',\n '529': 'deer',\n '530': 'frog',\n '531': 'truck',\n '532': 'horse',\n '533': 'frog',\n '534': 'bird',\n '535': 'dog',\n '536': 'dog',\n '537': 'automobile',\n '538': 'horse',\n '539': 'bird',\n '540': 'bird',\n '541': 'bird',\n '542': 'truck',\n '543': 'dog',\n '544': 'deer',\n '545': 'bird',\n '546': 'horse',\n '547': 'ship',\n '548': 'automobile',\n '549': 'cat',\n '550': 'deer',\n '551': 'cat',\n '552': 'horse',\n '553': 'frog',\n '554': 'truck',\n '555': 'ship',\n '556': 'airplane',\n '557': 'frog',\n '558': 'airplane',\n '559': 'bird',\n '560': 'bird',\n '561': 'bird',\n '562': 'automobile',\n '563': 'ship',\n '564': 'deer',\n '565': 'airplane',\n '566': 'automobile',\n '567': 'ship',\n '568': 'ship',\n '569': 'automobile',\n '570': 'dog',\n '571': 'horse',\n '572': 'frog',\n '573': 'deer',\n '574': 'dog',\n '575': 'ship',\n '576': 'horse',\n '577': 'automobile',\n '578': 'truck',\n '579': 'automobile',\n '580': 'truck',\n '581': 'ship',\n '582': 'deer',\n '583': 'horse',\n '584': 'cat',\n '585': 'ship',\n '586': 'ship',\n '587': 'bird',\n '588': 'frog',\n '589': 'frog',\n '590': 'horse',\n '591': 'automobile',\n '592': 'frog',\n '593': 'ship',\n '594': 'automobile',\n '595': 'truck',\n '596': 'horse',\n '597': 'ship',\n '598': 'cat',\n '599': 'airplane',\n '600': 'automobile',\n '601': 'airplane',\n '602': 'ship',\n '603': 'ship',\n '604': 'cat',\n '605': 'airplane',\n '606': 'airplane',\n '607': 'automobile',\n '608': 'dog',\n '609': 'airplane',\n '610': 'ship',\n '611': 'ship',\n '612': 'horse',\n '613': 'truck',\n '614': 'truck',\n '615': 'airplane',\n '616': 'truck',\n '617': 'deer',\n '618': 'automobile',\n '619': 'cat',\n '620': 'frog',\n '621': 'frog',\n '622': 'deer',\n '623': 'deer',\n '624': 'horse',\n '625': 'dog',\n '626': 'frog',\n '627': 'airplane',\n '628': 'ship',\n '629': 'airplane',\n '630': 'cat',\n '631': 'bird',\n '632': 'ship',\n '633': 'deer',\n '634': 'frog',\n '635': 'truck',\n '636': 'truck',\n '637': 'horse',\n '638': 'airplane',\n '639': 'cat',\n '640': 'cat',\n '641': 'frog',\n '642': 'horse',\n '643': 'deer',\n '644': 'truck',\n '645': 'automobile',\n '646': 'frog',\n '647': 'bird',\n '648': 'horse',\n '649': 'bird',\n '650': 'bird',\n '651': 'airplane',\n '652': 'frog',\n '653': 'horse',\n '654': 'dog',\n '655': 'horse',\n '656': 'frog',\n '657': 'ship',\n '658': 'truck',\n '659': 'airplane',\n '660': 'truck',\n '661': 'deer',\n '662': 'deer',\n '663': 'horse',\n '664': 'airplane',\n '665': 'truck',\n '666': 'deer',\n '667': 'truck',\n '668': 'frog',\n '669': 'truck',\n '670': 'deer',\n '671': 'dog',\n '672': 'horse',\n '673': 'truck',\n '674': 'bird',\n '675': 'deer',\n '676': 'dog',\n '677': 'automobile',\n '678': 'deer',\n '679': 'cat',\n '680': 'truck',\n '681': 'frog',\n '682': 'dog',\n '683': 'frog',\n '684': 'truck',\n '685': 'cat',\n '686': 'cat',\n '687': 'dog',\n '688': 'airplane',\n '689': 'horse',\n '690': 'bird',\n '691': 'automobile',\n '692': 'cat',\n '693': 'frog',\n '694': 'deer',\n '695': 'airplane',\n '696': 'airplane',\n '697': 'bird',\n '698': 'dog',\n '699': 'airplane',\n '700': 'automobile',\n '701': 'airplane',\n '702': 'bird',\n '703': 'cat',\n '704': 'truck',\n '705': 'ship',\n '706': 'deer',\n '707': 'truck',\n '708': 'ship',\n '709': 'airplane',\n '710': 'bird',\n '711': 'frog',\n '712': 'deer',\n '713': 'deer',\n '714': 'airplane',\n '715': 'automobile',\n '716': 'ship',\n '717': 'ship',\n '718': 'cat',\n '719': 'frog',\n '720': 'truck',\n '721': 'frog',\n '722': 'frog',\n '723': 'horse',\n '724': 'ship',\n '725': 'bird',\n '726': 'deer',\n '727': 'dog',\n '728': 'horse',\n '729': 'frog',\n '730': 'dog',\n '731': 'cat',\n '732': 'airplane',\n '733': 'dog',\n '734': 'airplane',\n '735': 'dog',\n '736': 'airplane',\n '737': 'ship',\n '738': 'bird',\n '739': 'frog',\n '740': 'horse',\n '741': 'cat',\n '742': 'ship',\n '743': 'bird',\n '744': 'automobile',\n '745': 'horse',\n '746': 'frog',\n '747': 'horse',\n '748': 'automobile',\n '749': 'airplane',\n '750': 'truck',\n '751': 'dog',\n '752': 'dog',\n '753': 'airplane',\n '754': 'automobile',\n '755': 'horse',\n '756': 'frog',\n '757': 'truck',\n '758': 'airplane',\n '759': 'deer',\n '760': 'horse',\n '761': 'horse',\n '762': 'automobile',\n '763': 'dog',\n '764': 'truck',\n '765': 'deer',\n '766': 'airplane',\n '767': 'ship',\n '768': 'dog',\n '769': 'truck',\n '770': 'truck',\n '771': 'frog',\n '772': 'horse',\n '773': 'automobile',\n '774': 'ship',\n '775': 'cat',\n '776': 'bird',\n '777': 'cat',\n '778': 'ship',\n '779': 'bird',\n '780': 'bird',\n '781': 'deer',\n '782': 'frog',\n '783': 'airplane',\n '784': 'airplane',\n '785': 'dog',\n '786': 'cat',\n '787': 'ship',\n '788': 'bird',\n '789': 'cat',\n '790': 'horse',\n '791': 'bird',\n '792': 'truck',\n '793': 'cat',\n '794': 'ship',\n '795': 'horse',\n '796': 'ship',\n '797': 'bird',\n '798': 'horse',\n '799': 'truck',\n '800': 'airplane',\n '801': 'bird',\n '802': 'cat',\n '803': 'bird',\n '804': 'bird',\n '805': 'bird',\n '806': 'cat',\n '807': 'cat',\n '808': 'frog',\n '809': 'bird',\n '810': 'cat',\n '811': 'bird',\n '812': 'ship',\n '813': 'airplane',\n '814': 'dog',\n '815': 'dog',\n '816': 'automobile',\n '817': 'deer',\n '818': 'dog',\n '819': 'frog',\n '820': 'frog',\n '821': 'bird',\n '822': 'horse',\n '823': 'airplane',\n '824': 'automobile',\n '825': 'horse',\n '826': 'horse',\n '827': 'ship',\n '828': 'bird',\n '829': 'truck',\n '830': 'bird',\n '831': 'bird',\n '832': 'deer',\n '833': 'bird',\n '834': 'automobile',\n '835': 'automobile',\n '836': 'automobile',\n '837': 'frog',\n '838': 'frog',\n '839': 'frog',\n '840': 'dog',\n '841': 'automobile',\n '842': 'automobile',\n '843': 'horse',\n '844': 'airplane',\n '845': 'deer',\n '846': 'cat',\n '847': 'cat',\n '848': 'horse',\n '849': 'automobile',\n '850': 'bird',\n '851': 'cat',\n '852': 'dog',\n '853': 'dog',\n '854': 'dog',\n '855': 'frog',\n '856': 'automobile',\n '857': 'deer',\n '858': 'cat',\n '859': 'horse',\n '860': 'ship',\n '861': 'ship',\n '862': 'cat',\n '863': 'frog',\n '864': 'frog',\n '865': 'bird',\n '866': 'cat',\n '867': 'airplane',\n '868': 'truck',\n '869': 'deer',\n '870': 'cat',\n '871': 'ship',\n '872': 'airplane',\n '873': 'airplane',\n '874': 'automobile',\n '875': 'automobile',\n '876': 'dog',\n '877': 'deer',\n '878': 'truck',\n '879': 'cat',\n '880': 'automobile',\n '881': 'ship',\n '882': 'truck',\n '883': 'cat',\n '884': 'truck',\n '885': 'truck',\n '886': 'bird',\n '887': 'truck',\n '888': 'deer',\n '889': 'ship',\n '890': 'bird',\n '891': 'truck',\n '892': 'ship',\n '893': 'ship',\n '894': 'automobile',\n '895': 'dog',\n '896': 'cat',\n '897': 'frog',\n '898': 'ship',\n '899': 'horse',\n '900': 'frog',\n '901': 'truck',\n '902': 'ship',\n '903': 'airplane',\n '904': 'frog',\n '905': 'deer',\n '906': 'airplane',\n '907': 'airplane',\n '908': 'bird',\n '909': 'dog',\n '910': 'ship',\n '911': 'bird',\n '912': 'airplane',\n '913': 'bird',\n '914': 'horse',\n '915': 'frog',\n '916': 'truck',\n '917': 'horse',\n '918': 'automobile',\n '919': 'dog',\n '920': 'dog',\n '921': 'frog',\n '922': 'frog',\n '923': 'cat',\n '924': 'frog',\n '925': 'bird',\n '926': 'deer',\n '927': 'horse',\n '928': 'airplane',\n '929': 'dog',\n '930': 'frog',\n '931': 'deer',\n '932': 'frog',\n '933': 'dog',\n '934': 'bird',\n '935': 'deer',\n '936': 'frog',\n '937': 'automobile',\n '938': 'frog',\n '939': 'airplane',\n '940': 'deer',\n '941': 'airplane',\n '942': 'cat',\n '943': 'automobile',\n '944': 'ship',\n '945': 'dog',\n '946': 'deer',\n '947': 'deer',\n '948': 'automobile',\n '949': 'horse',\n '950': 'cat',\n '951': 'truck',\n '952': 'deer',\n '953': 'horse',\n '954': 'truck',\n '955': 'horse',\n '956': 'cat',\n '957': 'horse',\n '958': 'bird',\n '959': 'ship',\n '960': 'deer',\n '961': 'frog',\n '962': 'frog',\n '963': 'automobile',\n '964': 'bird',\n '965': 'truck',\n '966': 'airplane',\n '967': 'deer',\n '968': 'ship',\n '969': 'horse',\n '970': 'cat',\n '971': 'truck',\n '972': 'ship',\n '973': 'horse',\n '974': 'horse',\n '975': 'airplane',\n '976': 'bird',\n '977': 'deer',\n '978': 'automobile',\n '979': 'automobile',\n '980': 'deer',\n '981': 'automobile',\n '982': 'dog',\n '983': 'deer',\n '984': 'airplane',\n '985': 'dog',\n '986': 'frog',\n '987': 'bird',\n '988': 'ship',\n '989': 'dog',\n '990': 'airplane',\n '991': 'bird',\n '992': 'automobile',\n '993': 'cat',\n '994': 'dog',\n '995': 'horse',\n '996': 'cat',\n '997': 'dog',\n '998': 'automobile',\n '999': 'cat',\n '1000': 'dog'}"
     },
     "execution_count": 7,
     "metadata": {},
     "output_type": "execute_result"
    }
   ],
   "source": [
    "labels = read_csv_labels(os.path.join(data_dir, 'trainLabels.csv'))\n",
    "print('# 训练样本 :', len(labels))\n",
    "print('# 类别 :', len(set(labels.values())))\n",
    "labels"
   ],
   "metadata": {
    "collapsed": false,
    "pycharm": {
     "name": "#%%\n"
    }
   }
  },
  {
   "cell_type": "markdown",
   "source": [
    "# 将验证集从原始训练集拆分出来"
   ],
   "metadata": {
    "collapsed": false,
    "pycharm": {
     "name": "#%% md\n"
    }
   }
  },
  {
   "cell_type": "code",
   "execution_count": null,
   "outputs": [],
   "source": [
    "def copyfile(filename, target_dir):\n",
    "    \"\"\"将文件复制到目标目录\"\"\"\n",
    "    os.makedirs(target_dir, exist_ok=True)\n",
    "    shutil.copy(filename, target_dir)\n",
    "\n"
   ],
   "metadata": {
    "collapsed": false,
    "pycharm": {
     "name": "#%%\n"
    }
   }
  }
 ],
 "metadata": {
  "kernelspec": {
   "display_name": "Python 3",
   "language": "python",
   "name": "python3"
  },
  "language_info": {
   "codemirror_mode": {
    "name": "ipython",
    "version": 2
   },
   "file_extension": ".py",
   "mimetype": "text/x-python",
   "name": "python",
   "nbconvert_exporter": "python",
   "pygments_lexer": "ipython2",
   "version": "2.7.6"
  }
 },
 "nbformat": 4,
 "nbformat_minor": 0
}