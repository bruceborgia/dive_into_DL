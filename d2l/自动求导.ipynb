{
 "cells": [
  {
   "cell_type": "markdown",
   "source": [
    "### 自动求导\n",
    "对函数$y=2x^Tx$,关于列向量求导"
   ],
   "metadata": {
    "collapsed": false
   },
   "id": "6be415d057c28e19"
  },
  {
   "cell_type": "code",
   "execution_count": 71,
   "outputs": [],
   "source": [
    "import torch"
   ],
   "metadata": {
    "collapsed": false,
    "ExecuteTime": {
     "end_time": "2023-10-09T09:49:07.590529300Z",
     "start_time": "2023-10-09T09:49:07.581529900Z"
    }
   },
   "id": "ded716ea54390bcf"
  },
  {
   "cell_type": "code",
   "execution_count": 72,
   "outputs": [
    {
     "data": {
      "text/plain": "tensor([0., 1., 2., 3.])"
     },
     "execution_count": 72,
     "metadata": {},
     "output_type": "execute_result"
    }
   ],
   "source": [
    "x = torch.arange(4.0)\n",
    "x"
   ],
   "metadata": {
    "collapsed": false,
    "ExecuteTime": {
     "end_time": "2023-10-09T09:49:08.030960300Z",
     "start_time": "2023-10-09T09:49:08.005954900Z"
    }
   },
   "id": "ee73790753861ef2"
  },
  {
   "cell_type": "markdown",
   "source": [
    "在我们计算y关于x的梯度之前，我们需要一个地方来存储梯度（y关于x的导数）"
   ],
   "metadata": {
    "collapsed": false
   },
   "id": "4203968b998950b6"
  },
  {
   "cell_type": "code",
   "execution_count": 73,
   "outputs": [],
   "source": [
    "x.requires_grad_(True)  # 等价于 x = torch.arange(4.0, requires_grad=True)\n",
    "x.grad  # 默认值为None"
   ],
   "metadata": {
    "collapsed": false,
    "ExecuteTime": {
     "end_time": "2023-10-09T09:49:09.395280800Z",
     "start_time": "2023-10-09T09:49:09.387250300Z"
    }
   },
   "id": "4e2a6d44e026f69f"
  },
  {
   "cell_type": "code",
   "execution_count": 74,
   "outputs": [
    {
     "data": {
      "text/plain": "tensor(28., grad_fn=<MulBackward0>)"
     },
     "execution_count": 74,
     "metadata": {},
     "output_type": "execute_result"
    }
   ],
   "source": [
    "# 计算y\n",
    "y = 2 * torch.dot(x, x)\n",
    "y"
   ],
   "metadata": {
    "collapsed": false,
    "ExecuteTime": {
     "end_time": "2023-10-09T09:49:10.424477200Z",
     "start_time": "2023-10-09T09:49:10.393135900Z"
    }
   },
   "id": "410d6ad392a963bd"
  },
  {
   "cell_type": "markdown",
   "source": [
    "pytorch 隐式的构造计算图，"
   ],
   "metadata": {
    "collapsed": false
   },
   "id": "700f99fbaf0a0955"
  },
  {
   "cell_type": "markdown",
   "source": [
    "### 通过调用反向传播函数来自动计算y关于x的每个分量的梯度"
   ],
   "metadata": {
    "collapsed": false
   },
   "id": "70c1d9c29e446d93"
  },
  {
   "cell_type": "code",
   "execution_count": 75,
   "outputs": [
    {
     "data": {
      "text/plain": "tensor([ 0.,  4.,  8., 12.])"
     },
     "execution_count": 75,
     "metadata": {},
     "output_type": "execute_result"
    }
   ],
   "source": [
    "y.backward() # 求导\n",
    "x.grad"
   ],
   "metadata": {
    "collapsed": false,
    "ExecuteTime": {
     "end_time": "2023-10-09T09:49:14.374832500Z",
     "start_time": "2023-10-09T09:49:14.353852600Z"
    }
   },
   "id": "83b21ad4c9eac7d7"
  },
  {
   "cell_type": "markdown",
   "source": [
    "求导$(2x^2)' = 4x$  \n",
    "$\\frac{\\partial y}{\\partial x} = \\frac{\\partial 2x^2}{\\partial x} = 4x$"
   ],
   "metadata": {
    "collapsed": false
   },
   "id": "4249e85590b5b82a"
  },
  {
   "cell_type": "code",
   "execution_count": 45,
   "outputs": [
    {
     "data": {
      "text/plain": "tensor([True, True, True, True])"
     },
     "execution_count": 45,
     "metadata": {},
     "output_type": "execute_result"
    }
   ],
   "source": [
    "# 验证求导\n",
    "x.grad == 4 * x"
   ],
   "metadata": {
    "collapsed": false,
    "ExecuteTime": {
     "end_time": "2023-10-09T08:16:13.690835700Z",
     "start_time": "2023-10-09T08:16:13.671834600Z"
    }
   },
   "id": "15b1bbc38627393c"
  },
  {
   "cell_type": "code",
   "execution_count": 48,
   "outputs": [
    {
     "data": {
      "text/plain": "tensor([1., 1., 1., 1.])"
     },
     "execution_count": 48,
     "metadata": {},
     "output_type": "execute_result"
    }
   ],
   "source": [
    "# 默认情况下，pytorch会累积梯度，我们需要清除之前的值\n",
    "x.grad.zero_()\n",
    "y = x.sum() # y = x1 + x2 + ... + xn = 0 + 1 + 2 + 3\n",
    "y.backward()\n",
    "x.grad"
   ],
   "metadata": {
    "collapsed": false,
    "ExecuteTime": {
     "end_time": "2023-10-09T08:17:36.545890600Z",
     "start_time": "2023-10-09T08:17:36.469820200Z"
    }
   },
   "id": "ee4bf50b9045bfbd"
  },
  {
   "cell_type": "markdown",
   "source": [
    "### 深度学习中，我们的目的不是计算微分矩阵，而是批量中每个样本单独计算的偏导数之和"
   ],
   "metadata": {
    "collapsed": false
   },
   "id": "db8c8b3655aab069"
  },
  {
   "cell_type": "code",
   "execution_count": 51,
   "outputs": [
    {
     "data": {
      "text/plain": "tensor([0., 2., 4., 6.])"
     },
     "execution_count": 51,
     "metadata": {},
     "output_type": "execute_result"
    }
   ],
   "source": [
    "# 对非标量调用‘backward需要传入一个gradient参数，该参数指定微分\n",
    "x.grad.zero_()\n",
    "y = x * x\n",
    "# 等价于 y.backward(torch.ones(len(x)))\n",
    "y.sum().backward()\n",
    "x.grad"
   ],
   "metadata": {
    "collapsed": false,
    "ExecuteTime": {
     "end_time": "2023-10-09T08:30:16.257591100Z",
     "start_time": "2023-10-09T08:30:16.242592800Z"
    }
   },
   "id": "129055a3fb2c6365"
  },
  {
   "cell_type": "markdown",
   "source": [
    "### 将某些计算移动到记录的计算图之外"
   ],
   "metadata": {
    "collapsed": false
   },
   "id": "717e4349a95ff726"
  },
  {
   "cell_type": "code",
   "execution_count": 52,
   "outputs": [
    {
     "data": {
      "text/plain": "tensor([True, True, True, True])"
     },
     "execution_count": 52,
     "metadata": {},
     "output_type": "execute_result"
    }
   ],
   "source": [
    "x.grad.zero_()\n",
    "y = x * x\n",
    "u = y.detach() # u 不再是个函数，只是个常量,无法再进行求导\n",
    "z = u * x  # u为常数，则 (ux)' = x \n",
    "\n",
    "z.sum().backward()\n",
    "x.grad == u"
   ],
   "metadata": {
    "collapsed": false,
    "ExecuteTime": {
     "end_time": "2023-10-09T08:57:14.529739700Z",
     "start_time": "2023-10-09T08:57:14.510093700Z"
    }
   },
   "id": "e4ea22f762a302f6"
  },
  {
   "cell_type": "code",
   "execution_count": 54,
   "outputs": [
    {
     "data": {
      "text/plain": "tensor([True, True, True, True])"
     },
     "execution_count": 54,
     "metadata": {},
     "output_type": "execute_result"
    }
   ],
   "source": [
    "x.grad.zero_()\n",
    "y.sum().backward()\n",
    "x.grad == 2 * x"
   ],
   "metadata": {
    "collapsed": false,
    "ExecuteTime": {
     "end_time": "2023-10-09T09:01:18.910959Z",
     "start_time": "2023-10-09T09:01:18.892959100Z"
    }
   },
   "id": "992c52300b145909"
  },
  {
   "cell_type": "code",
   "execution_count": 56,
   "outputs": [
    {
     "data": {
      "text/plain": "tensor(True)"
     },
     "execution_count": 56,
     "metadata": {},
     "output_type": "execute_result"
    }
   ],
   "source": [
    "# 即使构建函数的计算图需要用过python控制流（例如条件，循环），我们仍然可以计算得到变量的梯度\n",
    "def f(a):\n",
    "    b = a * 2\n",
    "    while b.norm() < 1000: # 2范数，即平方和开根\n",
    "        b = b * 2\n",
    "    if b.sum() > 0:\n",
    "        c = b\n",
    "    else:\n",
    "        c = 100 * b\n",
    "    return c\n",
    "\n",
    "a = torch.randn(size=(), requires_grad=True)\n",
    "d = f(a)\n",
    "d.backward()\n",
    "\n",
    "a .grad == d / a"
   ],
   "metadata": {
    "collapsed": false,
    "ExecuteTime": {
     "end_time": "2023-10-09T09:08:26.452238300Z",
     "start_time": "2023-10-09T09:08:26.388384200Z"
    }
   },
   "id": "57ffb64ec76b3e69"
  },
  {
   "cell_type": "code",
   "execution_count": 63,
   "outputs": [
    {
     "data": {
      "text/plain": "tensor(36.)"
     },
     "execution_count": 63,
     "metadata": {},
     "output_type": "execute_result"
    }
   ],
   "source": [
    "x1 = torch.tensor(3.0, requires_grad=True)\n",
    "y1 = torch.tensor(2.0, requires_grad=True)\n",
    "a = x1 ** 2\n",
    "b = 3 * a\n",
    "c = b * y1\n",
    "c.backward()\n",
    "x1.grad"
   ],
   "metadata": {
    "collapsed": false,
    "ExecuteTime": {
     "end_time": "2023-10-09T09:32:41.653659500Z",
     "start_time": "2023-10-09T09:32:41.643629Z"
    }
   },
   "id": "71ba9b17db155505"
  },
  {
   "cell_type": "code",
   "execution_count": 64,
   "outputs": [
    {
     "data": {
      "text/plain": "tensor(27.)"
     },
     "execution_count": 64,
     "metadata": {},
     "output_type": "execute_result"
    }
   ],
   "source": [
    "y1.grad"
   ],
   "metadata": {
    "collapsed": false,
    "ExecuteTime": {
     "end_time": "2023-10-09T09:32:42.567213400Z",
     "start_time": "2023-10-09T09:32:42.546186200Z"
    }
   },
   "id": "9f87534650b377dc"
  },
  {
   "cell_type": "code",
   "execution_count": 65,
   "outputs": [
    {
     "data": {
      "text/plain": "tensor(True)"
     },
     "execution_count": 65,
     "metadata": {},
     "output_type": "execute_result"
    }
   ],
   "source": [
    "x1.grad == 6 * x1 * y1"
   ],
   "metadata": {
    "collapsed": false,
    "ExecuteTime": {
     "end_time": "2023-10-09T09:32:44.157208800Z",
     "start_time": "2023-10-09T09:32:44.147187900Z"
    }
   },
   "id": "fd6ca381d030fdc5"
  },
  {
   "cell_type": "code",
   "execution_count": 69,
   "outputs": [
    {
     "data": {
      "text/plain": "tensor(True)"
     },
     "execution_count": 69,
     "metadata": {},
     "output_type": "execute_result"
    }
   ],
   "source": [
    "y1.grad == 3 * (x1 ** 2)"
   ],
   "metadata": {
    "collapsed": false,
    "ExecuteTime": {
     "end_time": "2023-10-09T09:33:29.368654500Z",
     "start_time": "2023-10-09T09:33:29.334380900Z"
    }
   },
   "id": "66d3277b60fac3c8"
  },
  {
   "cell_type": "code",
   "execution_count": 70,
   "outputs": [],
   "source": [],
   "metadata": {
    "collapsed": false,
    "ExecuteTime": {
     "end_time": "2023-10-09T09:33:38.727543500Z",
     "start_time": "2023-10-09T09:33:38.710543100Z"
    }
   },
   "id": "9f37cfd184acd403"
  },
  {
   "cell_type": "code",
   "execution_count": null,
   "outputs": [],
   "source": [],
   "metadata": {
    "collapsed": false
   },
   "id": "77211201e8d4ccc3"
  }
 ],
 "metadata": {
  "kernelspec": {
   "display_name": "Python 3",
   "language": "python",
   "name": "python3"
  },
  "language_info": {
   "codemirror_mode": {
    "name": "ipython",
    "version": 2
   },
   "file_extension": ".py",
   "mimetype": "text/x-python",
   "name": "python",
   "nbconvert_exporter": "python",
   "pygments_lexer": "ipython2",
   "version": "2.7.6"
  }
 },
 "nbformat": 4,
 "nbformat_minor": 5
}
