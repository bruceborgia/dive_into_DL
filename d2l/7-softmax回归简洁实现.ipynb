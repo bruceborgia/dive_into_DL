{
 "cells": [
  {
   "cell_type": "markdown",
   "source": [
    "# softmax 回归简洁实现"
   ],
   "metadata": {
    "collapsed": false
   },
   "id": "fd463d542d1eaca3"
  },
  {
   "cell_type": "code",
   "execution_count": 7,
   "outputs": [],
   "source": [
    "import torch\n",
    "from torch import nn\n",
    "from d2l import torch as d2l\n",
    "\n",
    "batch_size = 256\n",
    "train_iter, test_iter = d2l.load_data_fashion_mnist(batch_size)"
   ],
   "metadata": {
    "collapsed": false,
    "ExecuteTime": {
     "end_time": "2023-10-20T07:11:41.780048600Z",
     "start_time": "2023-10-20T07:11:41.723756900Z"
    }
   },
   "id": "a2928c8fd46920ca"
  },
  {
   "cell_type": "markdown",
   "source": [
    "## softmax 回归的输出层是一个全连接层\n"
   ],
   "metadata": {
    "collapsed": false
   },
   "id": "5451ca31e808eb83"
  },
  {
   "cell_type": "code",
   "execution_count": 8,
   "outputs": [
    {
     "data": {
      "text/plain": "Sequential(\n  (0): Flatten(start_dim=1, end_dim=-1)\n  (1): Linear(in_features=784, out_features=10, bias=True)\n)"
     },
     "execution_count": 8,
     "metadata": {},
     "output_type": "execute_result"
    }
   ],
   "source": [
    "# pytorch不会隐式的调整输入的形状\n",
    "# 因此定义 展平层(flatten) 在线性层之前调整网络输入的形状\n",
    "\n",
    "net = nn.Sequential(nn.Flatten(),\n",
    "                    nn.Linear(784, 10))\n",
    "\n",
    "def init_weights(m):\n",
    "    if type(m) == nn .Linear:\n",
    "        nn.init.normal_(m.weight, std=0.01)\n",
    "        \n",
    "\n",
    "net.apply(init_weights)"
   ],
   "metadata": {
    "collapsed": false,
    "ExecuteTime": {
     "end_time": "2023-10-20T07:11:43.030455600Z",
     "start_time": "2023-10-20T07:11:43.015912400Z"
    }
   },
   "id": "19f20bebc90bcfeb"
  },
  {
   "cell_type": "markdown",
   "source": [
    "### 在交叉熵损失函数中传递未归一化的预测， 并同时计算softmax及其对数"
   ],
   "metadata": {
    "collapsed": false
   },
   "id": "8876bf99d2b7dab"
  },
  {
   "cell_type": "code",
   "execution_count": 9,
   "outputs": [],
   "source": [
    "loss = nn.CrossEntropyLoss()"
   ],
   "metadata": {
    "collapsed": false,
    "ExecuteTime": {
     "end_time": "2023-10-20T07:11:43.605750700Z",
     "start_time": "2023-10-20T07:11:43.570655700Z"
    }
   },
   "id": "7677533433fb5bc2"
  },
  {
   "cell_type": "markdown",
   "source": [
    "### 使用学习率为0.1的小批量随机梯度下降作为优化算法"
   ],
   "metadata": {
    "collapsed": false
   },
   "id": "8b77f6732588906b"
  },
  {
   "cell_type": "code",
   "execution_count": 10,
   "outputs": [],
   "source": [
    "trainer = torch.optim.SGD(net.parameters(), lr=0.1)"
   ],
   "metadata": {
    "collapsed": false,
    "ExecuteTime": {
     "end_time": "2023-10-20T07:11:44.300580400Z",
     "start_time": "2023-10-20T07:11:44.285581900Z"
    }
   },
   "id": "4fad029c733b7785"
  },
  {
   "cell_type": "markdown",
   "source": [
    "# 训练"
   ],
   "metadata": {
    "collapsed": false
   },
   "id": "71ee99fc3a765c19"
  },
  {
   "cell_type": "code",
   "execution_count": 13,
   "outputs": [
    {
     "ename": "AttributeError",
     "evalue": "module 'd2l.torch' has no attribute 'train_ch3'",
     "output_type": "error",
     "traceback": [
      "\u001B[1;31m---------------------------------------------------------------------------\u001B[0m",
      "\u001B[1;31mAttributeError\u001B[0m                            Traceback (most recent call last)",
      "Cell \u001B[1;32mIn[13], line 2\u001B[0m\n\u001B[0;32m      1\u001B[0m num_epochs \u001B[38;5;241m=\u001B[39m \u001B[38;5;241m10\u001B[39m\n\u001B[1;32m----> 2\u001B[0m \u001B[43md2l\u001B[49m\u001B[38;5;241;43m.\u001B[39;49m\u001B[43mtrain_ch3\u001B[49m(net, train_iter, test_iter, loss, num_epochs, trainer)\n",
      "\u001B[1;31mAttributeError\u001B[0m: module 'd2l.torch' has no attribute 'train_ch3'"
     ]
    }
   ],
   "source": [
    "num_epochs = 10\n",
    "d2l.train_ch3(net, train_iter, test_iter, loss, num_epochs, trainer)\n",
    "# d2l bug"
   ],
   "metadata": {
    "collapsed": false,
    "ExecuteTime": {
     "end_time": "2023-10-20T07:13:03.429032600Z",
     "start_time": "2023-10-20T07:13:03.392057400Z"
    }
   },
   "id": "f992c223d46ca05"
  }
 ],
 "metadata": {
  "kernelspec": {
   "display_name": "Python 3",
   "language": "python",
   "name": "python3"
  },
  "language_info": {
   "codemirror_mode": {
    "name": "ipython",
    "version": 2
   },
   "file_extension": ".py",
   "mimetype": "text/x-python",
   "name": "python",
   "nbconvert_exporter": "python",
   "pygments_lexer": "ipython2",
   "version": "2.7.6"
  }
 },
 "nbformat": 4,
 "nbformat_minor": 5
}
