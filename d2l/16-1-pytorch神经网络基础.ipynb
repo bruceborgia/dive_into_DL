{
 "cells": [
  {
   "cell_type": "code",
   "execution_count": 12,
   "id": "initial_id",
   "metadata": {
    "collapsed": true,
    "ExecuteTime": {
     "end_time": "2023-10-26T09:13:41.842606900Z",
     "start_time": "2023-10-26T09:13:41.825607100Z"
    }
   },
   "outputs": [],
   "source": [
    "import torch\n",
    "from torch import nn\n",
    "from torch.nn import functional as F"
   ]
  },
  {
   "cell_type": "code",
   "execution_count": 13,
   "outputs": [
    {
     "data": {
      "text/plain": "tensor([[-0.2190, -0.1323,  0.2588, -0.2323, -0.1302, -0.0796, -0.1368,  0.0924,\n          0.0519, -0.0995],\n        [-0.1316, -0.0530,  0.2712, -0.2001,  0.0042, -0.1553, -0.0302,  0.0572,\n          0.0716, -0.0524]], grad_fn=<AddmmBackward0>)"
     },
     "execution_count": 13,
     "metadata": {},
     "output_type": "execute_result"
    }
   ],
   "source": [
    "net = nn.Sequential(nn.Linear(20, 256),\n",
    "                    nn.ReLU(),\n",
    "                    nn.Linear(256, 10))\n",
    "\n",
    "X = torch.rand(2, 20)\n",
    "\n",
    "net(X)"
   ],
   "metadata": {
    "collapsed": false,
    "ExecuteTime": {
     "end_time": "2023-10-26T09:13:42.241193600Z",
     "start_time": "2023-10-26T09:13:42.218165500Z"
    }
   },
   "id": "ab7f93d4f3202d92"
  },
  {
   "cell_type": "code",
   "execution_count": 14,
   "outputs": [],
   "source": [
    "class MLP(nn.Module):\n",
    "    def __init__(self):\n",
    "        super().__init__()\n",
    "        self.hidden = nn. Linear(20, 256)\n",
    "        self.out = nn.Linear(256, 10)\n",
    "    \n",
    "    def forward(self, X):\n",
    "        return self.out(F.relu(self.hidden(X)))"
   ],
   "metadata": {
    "collapsed": false,
    "ExecuteTime": {
     "end_time": "2023-10-26T09:13:42.728201100Z",
     "start_time": "2023-10-26T09:13:42.696070900Z"
    }
   },
   "id": "78a92658e0f35e83"
  },
  {
   "cell_type": "markdown",
   "source": [
    "# 实例化多层感知机层数，然后在每次调用正向传播时调用这些层"
   ],
   "metadata": {
    "collapsed": false
   },
   "id": "bc90036c8ac93dd3"
  },
  {
   "cell_type": "code",
   "execution_count": 15,
   "outputs": [
    {
     "data": {
      "text/plain": "tensor([[-0.0948, -0.2147,  0.0622,  0.2143,  0.2623, -0.1060,  0.0349,  0.0429,\n          0.0554,  0.1752],\n        [-0.1100, -0.2716,  0.0495,  0.0974,  0.2539, -0.0507,  0.0097,  0.1172,\n          0.0310,  0.2291]], grad_fn=<AddmmBackward0>)"
     },
     "execution_count": 15,
     "metadata": {},
     "output_type": "execute_result"
    }
   ],
   "source": [
    "net = MLP()\n",
    "net(X)\n",
    "# net.forward(X)"
   ],
   "metadata": {
    "collapsed": false,
    "ExecuteTime": {
     "end_time": "2023-10-26T09:13:43.646694Z",
     "start_time": "2023-10-26T09:13:43.628692600Z"
    }
   },
   "id": "78c180e78cdef336"
  },
  {
   "cell_type": "markdown",
   "source": [
    "# 实现sequential"
   ],
   "metadata": {
    "collapsed": false
   },
   "id": "719156c0f0158a8e"
  },
  {
   "cell_type": "code",
   "execution_count": 16,
   "outputs": [
    {
     "data": {
      "text/plain": "tensor([[-0.1677,  0.1681,  0.0553, -0.0756, -0.0843,  0.1097,  0.1357,  0.1228,\n         -0.0381,  0.0110],\n        [-0.2476,  0.0546,  0.1296,  0.0082, -0.1523,  0.0788,  0.1555, -0.0134,\n         -0.0524,  0.0598]], grad_fn=<AddmmBackward0>)"
     },
     "execution_count": 16,
     "metadata": {},
     "output_type": "execute_result"
    }
   ],
   "source": [
    "class MySequential(nn.Module):\n",
    "    def __init__(self, *args):\n",
    "        super().__init__()\n",
    "        for block in args:\n",
    "            self._modules[block] = block # _modules  存储层的容器\n",
    "    \n",
    "    def forward(self, X):\n",
    "        for block in self._modules.values():\n",
    "            X = block(X)\n",
    "        return X\n",
    "    \n",
    "net = MySequential(nn.Linear(20, 256), nn.ReLU(), nn.Linear(256, 10))\n",
    "net(X)"
   ],
   "metadata": {
    "collapsed": false,
    "ExecuteTime": {
     "end_time": "2023-10-26T09:13:44.706898400Z",
     "start_time": "2023-10-26T09:13:44.693898100Z"
    }
   },
   "id": "2876299321545bb9"
  },
  {
   "cell_type": "markdown",
   "source": [
    "# 在forward正向传播函数中执行代码"
   ],
   "metadata": {
    "collapsed": false
   },
   "id": "91e6a2888ee298ae"
  },
  {
   "cell_type": "code",
   "execution_count": 17,
   "outputs": [
    {
     "data": {
      "text/plain": "tensor(-0.1299, grad_fn=<SumBackward0>)"
     },
     "execution_count": 17,
     "metadata": {},
     "output_type": "execute_result"
    }
   ],
   "source": [
    "class FixHiddenMLP(nn.Module):\n",
    "    def __init__(self):\n",
    "        super().__init__()\n",
    "        self.rand_weight = torch.rand((20, 20), requires_grad=False)\n",
    "        self.linear = nn.Linear(20, 20)\n",
    "    \n",
    "    def forward(self, X):\n",
    "        X = self.linear(X)\n",
    "        X = F.relu(torch.mm(X, self.rand_weight) + 1)\n",
    "        X = self.linear(X)\n",
    "        while X.abs().sum() > 1:\n",
    "            X /= 2\n",
    "        return X.sum()\n",
    "\n",
    "net = FixHiddenMLP()\n",
    "net(X)"
   ],
   "metadata": {
    "collapsed": false,
    "ExecuteTime": {
     "end_time": "2023-10-26T09:18:36.012139400Z",
     "start_time": "2023-10-26T09:18:35.975145200Z"
    }
   },
   "id": "8f1b7f3d767fb08c"
  },
  {
   "cell_type": "markdown",
   "source": [
    "# 混合使用"
   ],
   "metadata": {
    "collapsed": false
   },
   "id": "89578dd6978112d8"
  },
  {
   "cell_type": "code",
   "execution_count": 18,
   "outputs": [
    {
     "data": {
      "text/plain": "tensor(-0.0362, grad_fn=<SumBackward0>)"
     },
     "execution_count": 18,
     "metadata": {},
     "output_type": "execute_result"
    }
   ],
   "source": [
    "class NestMLP(nn.Module):\n",
    "    def __init__(self):\n",
    "        super().__init__()\n",
    "        self.net = nn.Sequential(nn.Linear(20, 64),\n",
    "                                nn.ReLU(),\n",
    "                                nn.Linear(64, 32),\n",
    "                                nn.ReLU())\n",
    "        self.linear = nn.Linear(32, 16)\n",
    "        \n",
    "    def forward(self, X):\n",
    "        return self.linear(self.net(X))\n",
    "    \n",
    "chimera = nn.Sequential(NestMLP(), nn.Linear(16, 20), FixHiddenMLP())\n",
    "chimera(X)"
   ],
   "metadata": {
    "collapsed": false,
    "ExecuteTime": {
     "end_time": "2023-10-26T09:25:09.281857Z",
     "start_time": "2023-10-26T09:25:09.222526Z"
    }
   },
   "id": "ad76dcbb9dd4d988"
  },
  {
   "cell_type": "code",
   "execution_count": null,
   "outputs": [],
   "source": [],
   "metadata": {
    "collapsed": false
   },
   "id": "cc6f6f5b4992c9df"
  }
 ],
 "metadata": {
  "kernelspec": {
   "display_name": "Python 3",
   "language": "python",
   "name": "python3"
  },
  "language_info": {
   "codemirror_mode": {
    "name": "ipython",
    "version": 2
   },
   "file_extension": ".py",
   "mimetype": "text/x-python",
   "name": "python",
   "nbconvert_exporter": "python",
   "pygments_lexer": "ipython2",
   "version": "2.7.6"
  }
 },
 "nbformat": 4,
 "nbformat_minor": 5
}
