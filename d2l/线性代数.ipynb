{
 "cells": [
  {
   "cell_type": "markdown",
   "source": [
    "# 线性代数\n",
    "标量 只有一个元素组成的张量"
   ],
   "metadata": {
    "collapsed": false
   },
   "id": "b8acc6c12e3e3d08"
  },
  {
   "cell_type": "code",
   "execution_count": 1,
   "outputs": [],
   "source": [
    "import torch"
   ],
   "metadata": {
    "collapsed": false,
    "ExecuteTime": {
     "end_time": "2023-10-17T09:04:02.204266400Z",
     "start_time": "2023-10-17T09:04:01.083846900Z"
    }
   },
   "id": "7c61cf3ec660c9db"
  },
  {
   "cell_type": "code",
   "execution_count": 2,
   "outputs": [
    {
     "data": {
      "text/plain": "(tensor([5.]), tensor([6.]), tensor([1.5000]), tensor([9.]))"
     },
     "execution_count": 2,
     "metadata": {},
     "output_type": "execute_result"
    }
   ],
   "source": [
    "x = torch.tensor([3.0])\n",
    "y = torch.tensor([2.0])\n",
    "\n",
    "x + y, x * y, x / y, x ** y"
   ],
   "metadata": {
    "collapsed": false,
    "ExecuteTime": {
     "end_time": "2023-10-17T09:04:39.925449Z",
     "start_time": "2023-10-17T09:04:39.873449600Z"
    }
   },
   "id": "b63343758d85f526"
  },
  {
   "cell_type": "markdown",
   "source": [
    "### 可以将向量视为标量值组成的列表"
   ],
   "metadata": {
    "collapsed": false
   },
   "id": "cd4d7634195f0065"
  },
  {
   "cell_type": "code",
   "execution_count": 3,
   "outputs": [
    {
     "data": {
      "text/plain": "tensor([0, 1, 2, 3])"
     },
     "execution_count": 3,
     "metadata": {},
     "output_type": "execute_result"
    }
   ],
   "source": [
    "x = torch.arange(4)\n",
    "x"
   ],
   "metadata": {
    "collapsed": false,
    "ExecuteTime": {
     "end_time": "2023-10-17T09:05:19.010559100Z",
     "start_time": "2023-10-17T09:05:18.986537100Z"
    }
   },
   "id": "23c0b873b6be36d2"
  },
  {
   "cell_type": "markdown",
   "source": [
    "# 通过张量索引来访问任一元素"
   ],
   "metadata": {
    "collapsed": false
   },
   "id": "5add05336641b71e"
  },
  {
   "cell_type": "code",
   "execution_count": 5,
   "outputs": [
    {
     "data": {
      "text/plain": "tensor(3)"
     },
     "execution_count": 5,
     "metadata": {},
     "output_type": "execute_result"
    }
   ],
   "source": [
    "x[3]"
   ],
   "metadata": {
    "collapsed": false,
    "ExecuteTime": {
     "end_time": "2023-10-17T09:05:52.720220100Z",
     "start_time": "2023-10-17T09:05:52.698221500Z"
    }
   },
   "id": "831c89313f4a9ca0"
  },
  {
   "cell_type": "code",
   "execution_count": 6,
   "outputs": [
    {
     "data": {
      "text/plain": "4"
     },
     "execution_count": 6,
     "metadata": {},
     "output_type": "execute_result"
    }
   ],
   "source": [
    "len(x)"
   ],
   "metadata": {
    "collapsed": false,
    "ExecuteTime": {
     "end_time": "2023-10-17T09:06:02.634943200Z",
     "start_time": "2023-10-17T09:06:02.599944300Z"
    }
   },
   "id": "8ea5a697240a7a88"
  },
  {
   "cell_type": "code",
   "execution_count": 7,
   "outputs": [
    {
     "data": {
      "text/plain": "torch.Size([4])"
     },
     "execution_count": 7,
     "metadata": {},
     "output_type": "execute_result"
    }
   ],
   "source": [
    "x.shape"
   ],
   "metadata": {
    "collapsed": false,
    "ExecuteTime": {
     "end_time": "2023-10-17T09:06:11.961737700Z",
     "start_time": "2023-10-17T09:06:11.934755100Z"
    }
   },
   "id": "5bb705175f67fd8e"
  },
  {
   "cell_type": "markdown",
   "source": [
    "# 矩阵\n",
    "通过指定两个分量 m 和 n 创建一个形状为m * n的矩阵"
   ],
   "metadata": {
    "collapsed": false
   },
   "id": "a8be5dfe4bfedc03"
  },
  {
   "cell_type": "code",
   "execution_count": 8,
   "outputs": [
    {
     "data": {
      "text/plain": "tensor([[ 0,  1,  2,  3],\n        [ 4,  5,  6,  7],\n        [ 8,  9, 10, 11],\n        [12, 13, 14, 15],\n        [16, 17, 18, 19]])"
     },
     "execution_count": 8,
     "metadata": {},
     "output_type": "execute_result"
    }
   ],
   "source": [
    "A = torch.arange(20).reshape(5,4)\n",
    "A"
   ],
   "metadata": {
    "collapsed": false,
    "ExecuteTime": {
     "end_time": "2023-10-17T09:07:19.147854900Z",
     "start_time": "2023-10-17T09:07:19.081540300Z"
    }
   },
   "id": "15f601cbad514bc1"
  },
  {
   "cell_type": "markdown",
   "source": [
    "### 矩阵的转置"
   ],
   "metadata": {
    "collapsed": false
   },
   "id": "7258707cd562a609"
  },
  {
   "cell_type": "code",
   "execution_count": 10,
   "outputs": [
    {
     "data": {
      "text/plain": "tensor([[ 0,  4,  8, 12, 16],\n        [ 1,  5,  9, 13, 17],\n        [ 2,  6, 10, 14, 18],\n        [ 3,  7, 11, 15, 19]])"
     },
     "execution_count": 10,
     "metadata": {},
     "output_type": "execute_result"
    }
   ],
   "source": [
    "A.T"
   ],
   "metadata": {
    "collapsed": false,
    "ExecuteTime": {
     "end_time": "2023-10-17T09:08:45.922288600Z",
     "start_time": "2023-10-17T09:08:45.905516700Z"
    }
   },
   "id": "f09536e2d9aa478e"
  },
  {
   "cell_type": "markdown",
   "source": [
    "# 对称矩阵 A = $A^T$"
   ],
   "metadata": {
    "collapsed": false
   },
   "id": "16e584314fd32305"
  },
  {
   "cell_type": "code",
   "execution_count": 12,
   "outputs": [
    {
     "data": {
      "text/plain": "tensor([[1, 2, 3],\n        [2, 0, 4],\n        [3, 4, 5]])"
     },
     "execution_count": 12,
     "metadata": {},
     "output_type": "execute_result"
    }
   ],
   "source": [
    "B = torch.tensor([[1, 2, 3], [2, 0, 4],[3, 4, 5]])\n",
    "B"
   ],
   "metadata": {
    "collapsed": false,
    "ExecuteTime": {
     "end_time": "2023-10-17T09:10:09.319919600Z",
     "start_time": "2023-10-17T09:10:09.287920900Z"
    }
   },
   "id": "4ec80784dbea9657"
  },
  {
   "cell_type": "code",
   "execution_count": 13,
   "outputs": [
    {
     "data": {
      "text/plain": "tensor([[True, True, True],\n        [True, True, True],\n        [True, True, True]])"
     },
     "execution_count": 13,
     "metadata": {},
     "output_type": "execute_result"
    }
   ],
   "source": [
    "B == B.T"
   ],
   "metadata": {
    "collapsed": false,
    "ExecuteTime": {
     "end_time": "2023-10-17T09:10:23.623775100Z",
     "start_time": "2023-10-17T09:10:23.595775300Z"
    }
   },
   "id": "422dbbc1e454620d"
  },
  {
   "cell_type": "markdown",
   "source": [
    "### 像是向量是标量的推广， 矩阵是向量的推广一样， 我们可以构建具有更多轴的数据结构"
   ],
   "metadata": {
    "collapsed": false
   },
   "id": "ec725ec320174869"
  },
  {
   "cell_type": "code",
   "execution_count": 14,
   "outputs": [
    {
     "data": {
      "text/plain": "tensor([[[ 0,  1,  2,  3],\n         [ 4,  5,  6,  7],\n         [ 8,  9, 10, 11]],\n\n        [[12, 13, 14, 15],\n         [16, 17, 18, 19],\n         [20, 21, 22, 23]]])"
     },
     "execution_count": 14,
     "metadata": {},
     "output_type": "execute_result"
    }
   ],
   "source": [
    "X = torch.arange(24).reshape(2, 3, 4)\n",
    "X"
   ],
   "metadata": {
    "collapsed": false,
    "ExecuteTime": {
     "end_time": "2023-10-17T09:12:10.120397300Z",
     "start_time": "2023-10-17T09:12:10.057398400Z"
    }
   },
   "id": "e168e00aa3b34dc1"
  },
  {
   "cell_type": "markdown",
   "source": [
    "### 给定任何相同形状的任何两个张量，任何按元素二元运算的结果都将是相同形状的张量"
   ],
   "metadata": {
    "collapsed": false
   },
   "id": "d986eee0f13ef897"
  },
  {
   "cell_type": "code",
   "execution_count": 15,
   "outputs": [
    {
     "data": {
      "text/plain": "(tensor([[ 0.,  1.,  2.,  3.],\n         [ 4.,  5.,  6.,  7.],\n         [ 8.,  9., 10., 11.],\n         [12., 13., 14., 15.],\n         [16., 17., 18., 19.]]),\n tensor([[ 0.,  2.,  4.,  6.],\n         [ 8., 10., 12., 14.],\n         [16., 18., 20., 22.],\n         [24., 26., 28., 30.],\n         [32., 34., 36., 38.]]))"
     },
     "execution_count": 15,
     "metadata": {},
     "output_type": "execute_result"
    }
   ],
   "source": [
    "A = torch.arange(20, dtype=torch.float32).reshape(5, 4)\n",
    "B = A.clone()\n",
    "A, A + B"
   ],
   "metadata": {
    "collapsed": false,
    "ExecuteTime": {
     "end_time": "2023-10-17T09:15:16.959544200Z",
     "start_time": "2023-10-17T09:15:16.938028700Z"
    }
   },
   "id": "e28c2e4c032f660"
  },
  {
   "cell_type": "markdown",
   "source": [
    "### 两个矩阵按元素乘法， 称为 哈达玛积（Hadamard product） 数学符号为 $\\odot$"
   ],
   "metadata": {
    "collapsed": false
   },
   "id": "a013486c6fcefc60"
  },
  {
   "cell_type": "code",
   "execution_count": 16,
   "outputs": [
    {
     "data": {
      "text/plain": "tensor([[  0.,   1.,   4.,   9.],\n        [ 16.,  25.,  36.,  49.],\n        [ 64.,  81., 100., 121.],\n        [144., 169., 196., 225.],\n        [256., 289., 324., 361.]])"
     },
     "execution_count": 16,
     "metadata": {},
     "output_type": "execute_result"
    }
   ],
   "source": [
    "A * B"
   ],
   "metadata": {
    "collapsed": false,
    "ExecuteTime": {
     "end_time": "2023-10-17T09:21:46.694012900Z",
     "start_time": "2023-10-17T09:21:46.657753800Z"
    }
   },
   "id": "37e82bf6bb4cf253"
  },
  {
   "cell_type": "code",
   "execution_count": 18,
   "outputs": [
    {
     "data": {
      "text/plain": "(tensor([[[ 2,  3,  4,  5],\n          [ 6,  7,  8,  9],\n          [10, 11, 12, 13]],\n \n         [[14, 15, 16, 17],\n          [18, 19, 20, 21],\n          [22, 23, 24, 25]]]),\n tensor([[[ 0,  2,  4,  6],\n          [ 8, 10, 12, 14],\n          [16, 18, 20, 22]],\n \n         [[24, 26, 28, 30],\n          [32, 34, 36, 38],\n          [40, 42, 44, 46]]]),\n torch.Size([2, 3, 4]))"
     },
     "execution_count": 18,
     "metadata": {},
     "output_type": "execute_result"
    }
   ],
   "source": [
    "a = 2\n",
    "X = torch.arange(24).reshape(2, 3, 4)\n",
    "a + X, (a * X), (a * X).shape"
   ],
   "metadata": {
    "collapsed": false,
    "ExecuteTime": {
     "end_time": "2023-10-17T09:23:01.765228Z",
     "start_time": "2023-10-17T09:23:01.749199Z"
    }
   },
   "id": "40f0e41b4e2070f1"
  },
  {
   "cell_type": "markdown",
   "source": [
    "### 计算元素和"
   ],
   "metadata": {
    "collapsed": false
   },
   "id": "6fef4f35816382de"
  },
  {
   "cell_type": "code",
   "execution_count": 19,
   "outputs": [
    {
     "data": {
      "text/plain": "(tensor([0., 1., 2., 3.]), tensor(6.))"
     },
     "execution_count": 19,
     "metadata": {},
     "output_type": "execute_result"
    }
   ],
   "source": [
    "x = torch.arange(4, dtype=torch.float32)\n",
    "x, x.sum()"
   ],
   "metadata": {
    "collapsed": false,
    "ExecuteTime": {
     "end_time": "2023-10-17T09:23:59.295251800Z",
     "start_time": "2023-10-17T09:23:59.228099500Z"
    }
   },
   "id": "4b2489ac50dc0ed3"
  },
  {
   "cell_type": "code",
   "execution_count": 25,
   "outputs": [
    {
     "data": {
      "text/plain": "(tensor([[ 0,  1,  2,  3],\n         [ 4,  5,  6,  7],\n         [ 8,  9, 10, 11],\n         [12, 13, 14, 15],\n         [16, 17, 18, 19]]),\n torch.Size([5, 4]),\n tensor(190))"
     },
     "execution_count": 25,
     "metadata": {},
     "output_type": "execute_result"
    }
   ],
   "source": [
    "A = torch.arange(20).reshape(5, 4)\n",
    "A,A.shape, A.sum()"
   ],
   "metadata": {
    "collapsed": false,
    "ExecuteTime": {
     "end_time": "2023-10-17T09:29:37.767009300Z",
     "start_time": "2023-10-17T09:29:37.727009500Z"
    }
   },
   "id": "25052d88498faeff"
  },
  {
   "cell_type": "markdown",
   "source": [
    "### 指定求和汇总张量的轴"
   ],
   "metadata": {
    "collapsed": false
   },
   "id": "a1770925d2c8f98f"
  },
  {
   "cell_type": "code",
   "execution_count": 26,
   "outputs": [
    {
     "data": {
      "text/plain": "(tensor([40, 45, 50, 55]), torch.Size([4]))"
     },
     "execution_count": 26,
     "metadata": {},
     "output_type": "execute_result"
    }
   ],
   "source": [
    "A_sum_axis0 = A.sum(axis=0)\n",
    "A_sum_axis0, A_sum_axis0.shape"
   ],
   "metadata": {
    "collapsed": false,
    "ExecuteTime": {
     "end_time": "2023-10-17T09:29:39.205465400Z",
     "start_time": "2023-10-17T09:29:39.185266Z"
    }
   },
   "id": "3003bd9f03de8aec"
  },
  {
   "cell_type": "code",
   "execution_count": 27,
   "outputs": [
    {
     "data": {
      "text/plain": "(tensor([ 6, 22, 38, 54, 70]), torch.Size([5]))"
     },
     "execution_count": 27,
     "metadata": {},
     "output_type": "execute_result"
    }
   ],
   "source": [
    "A_sum_axis1 = A.sum(axis=1)\n",
    "A_sum_axis1, A_sum_axis1.shape"
   ],
   "metadata": {
    "collapsed": false,
    "ExecuteTime": {
     "end_time": "2023-10-17T09:29:40.206601800Z",
     "start_time": "2023-10-17T09:29:40.188571Z"
    }
   },
   "id": "953712af9741fa51"
  },
  {
   "cell_type": "code",
   "execution_count": 30,
   "outputs": [
    {
     "data": {
      "text/plain": "(tensor(190), torch.Size([]))"
     },
     "execution_count": 30,
     "metadata": {},
     "output_type": "execute_result"
    }
   ],
   "source": [
    "# 等价于A.SUM()\n",
    "A.sum(axis=[0, 1]), A.sum(axis=[0, 1]).shape"
   ],
   "metadata": {
    "collapsed": false,
    "ExecuteTime": {
     "end_time": "2023-10-17T09:32:14.747726100Z",
     "start_time": "2023-10-17T09:32:14.713688200Z"
    }
   },
   "id": "ade8b576134eba29"
  },
  {
   "cell_type": "code",
   "execution_count": 32,
   "outputs": [
    {
     "data": {
      "text/plain": "(tensor([[[ 0,  1,  2,  3],\n          [ 4,  5,  6,  7],\n          [ 8,  9, 10, 11],\n          [12, 13, 14, 15],\n          [16, 17, 18, 19]],\n \n         [[20, 21, 22, 23],\n          [24, 25, 26, 27],\n          [28, 29, 30, 31],\n          [32, 33, 34, 35],\n          [36, 37, 38, 39]]]),\n torch.Size([2, 5, 4]))"
     },
     "execution_count": 32,
     "metadata": {},
     "output_type": "execute_result"
    }
   ],
   "source": [
    "# 三维 测试\n",
    "\n",
    "SA = torch.arange(20 * 2).reshape(2, 5, 4)\n",
    "SA, SA.shape"
   ],
   "metadata": {
    "collapsed": false,
    "ExecuteTime": {
     "end_time": "2023-10-17T09:33:39.474395400Z",
     "start_time": "2023-10-17T09:33:39.431395200Z"
    }
   },
   "id": "5a0696aa5c97c6a0"
  },
  {
   "cell_type": "code",
   "execution_count": 33,
   "outputs": [
    {
     "data": {
      "text/plain": "(tensor([[20, 22, 24, 26],\n         [28, 30, 32, 34],\n         [36, 38, 40, 42],\n         [44, 46, 48, 50],\n         [52, 54, 56, 58]]),\n torch.Size([5, 4]))"
     },
     "execution_count": 33,
     "metadata": {},
     "output_type": "execute_result"
    }
   ],
   "source": [
    "SA_sum_axis0 = SA.sum(axis=0)\n",
    "SA_sum_axis0, SA_sum_axis0.shape"
   ],
   "metadata": {
    "collapsed": false,
    "ExecuteTime": {
     "end_time": "2023-10-17T09:38:01.503253800Z",
     "start_time": "2023-10-17T09:38:01.445253100Z"
    }
   },
   "id": "d7b3fb6f67e72b11"
  },
  {
   "cell_type": "code",
   "execution_count": 34,
   "outputs": [
    {
     "data": {
      "text/plain": "(tensor([[ 40,  45,  50,  55],\n         [140, 145, 150, 155]]),\n torch.Size([2, 4]))"
     },
     "execution_count": 34,
     "metadata": {},
     "output_type": "execute_result"
    }
   ],
   "source": [
    "SA_sum_axis1 = SA.sum(axis=1)\n",
    "SA_sum_axis1, SA_sum_axis1.shape"
   ],
   "metadata": {
    "collapsed": false,
    "ExecuteTime": {
     "end_time": "2023-10-17T09:38:38.611665800Z",
     "start_time": "2023-10-17T09:38:38.572667700Z"
    }
   },
   "id": "aa4badf61bfde799"
  },
  {
   "cell_type": "code",
   "execution_count": 35,
   "outputs": [
    {
     "data": {
      "text/plain": "(tensor([[  6,  22,  38,  54,  70],\n         [ 86, 102, 118, 134, 150]]),\n torch.Size([2, 5]))"
     },
     "execution_count": 35,
     "metadata": {},
     "output_type": "execute_result"
    }
   ],
   "source": [
    "SA_sum_axis2 = SA.sum(axis=2)\n",
    "SA_sum_axis2, SA_sum_axis2.shape"
   ],
   "metadata": {
    "collapsed": false,
    "ExecuteTime": {
     "end_time": "2023-10-17T09:39:12.768332Z",
     "start_time": "2023-10-17T09:39:12.735332300Z"
    }
   },
   "id": "b234a4ce740dab0d"
  },
  {
   "cell_type": "markdown",
   "source": [],
   "metadata": {
    "collapsed": false
   },
   "id": "7f229b06cb56c77c"
  },
  {
   "cell_type": "markdown",
   "source": [
    "### 与求和相关的量是平均值，mean"
   ],
   "metadata": {
    "collapsed": false
   },
   "id": "7f04f660e267df70"
  },
  {
   "cell_type": "code",
   "execution_count": 41,
   "outputs": [
    {
     "data": {
      "text/plain": "(tensor(9.5000), tensor(9.5000))"
     },
     "execution_count": 41,
     "metadata": {},
     "output_type": "execute_result"
    }
   ],
   "source": [
    "A = torch.arange(20,dtype=torch.float32).reshape(5, 4)\n",
    "A.mean(), A.sum()/A.numel()"
   ],
   "metadata": {
    "collapsed": false,
    "ExecuteTime": {
     "end_time": "2023-10-17T09:51:48.026985200Z",
     "start_time": "2023-10-17T09:51:47.962974300Z"
    }
   },
   "id": "f15d3455ad731435"
  },
  {
   "cell_type": "code",
   "execution_count": 42,
   "outputs": [
    {
     "data": {
      "text/plain": "(tensor([ 8.,  9., 10., 11.]), tensor([ 8.,  9., 10., 11.]))"
     },
     "execution_count": 42,
     "metadata": {},
     "output_type": "execute_result"
    }
   ],
   "source": [
    "A.mean(axis=0), A.sum(axis=0) / A.shape[0]"
   ],
   "metadata": {
    "collapsed": false,
    "ExecuteTime": {
     "end_time": "2023-10-17T09:55:55.722131500Z",
     "start_time": "2023-10-17T09:55:55.656590200Z"
    }
   },
   "id": "740d30c56d5eeb5a"
  },
  {
   "cell_type": "markdown",
   "source": [
    "计算总和或均值时保持维度不变"
   ],
   "metadata": {
    "collapsed": false
   },
   "id": "602b087999a444e3"
  },
  {
   "cell_type": "code",
   "execution_count": 44,
   "outputs": [
    {
     "data": {
      "text/plain": "(tensor([[ 6.],\n         [22.],\n         [38.],\n         [54.],\n         [70.]]),\n torch.Size([5, 1]))"
     },
     "execution_count": 44,
     "metadata": {},
     "output_type": "execute_result"
    }
   ],
   "source": [
    "sum_A = A.sum(axis=1, keepdims=True)\n",
    "sum_A, sum_A.shape"
   ],
   "metadata": {
    "collapsed": false,
    "ExecuteTime": {
     "end_time": "2023-10-17T09:58:31.927844500Z",
     "start_time": "2023-10-17T09:58:31.892040Z"
    }
   },
   "id": "10546cdc15893782"
  },
  {
   "cell_type": "markdown",
   "source": [
    "### 通过广播将A除以sum_A"
   ],
   "metadata": {
    "collapsed": false
   },
   "id": "38835dc1ef8e8beb"
  },
  {
   "cell_type": "code",
   "execution_count": 46,
   "outputs": [
    {
     "data": {
      "text/plain": "tensor([[0.0000, 0.1667, 0.3333, 0.5000],\n        [0.1818, 0.2273, 0.2727, 0.3182],\n        [0.2105, 0.2368, 0.2632, 0.2895],\n        [0.2222, 0.2407, 0.2593, 0.2778],\n        [0.2286, 0.2429, 0.2571, 0.2714]])"
     },
     "execution_count": 46,
     "metadata": {},
     "output_type": "execute_result"
    }
   ],
   "source": [
    "A / sum_A"
   ],
   "metadata": {
    "collapsed": false,
    "ExecuteTime": {
     "end_time": "2023-10-17T09:59:46.059590200Z",
     "start_time": "2023-10-17T09:59:46.039565200Z"
    }
   },
   "id": "aaaf4f208302ce41"
  },
  {
   "cell_type": "markdown",
   "source": [
    "### 某个轴计算A元素的累积总和"
   ],
   "metadata": {
    "collapsed": false
   },
   "id": "487c1165cb8c3200"
  },
  {
   "cell_type": "code",
   "execution_count": 47,
   "outputs": [
    {
     "data": {
      "text/plain": "tensor([[ 0.,  1.,  2.,  3.],\n        [ 4.,  6.,  8., 10.],\n        [12., 15., 18., 21.],\n        [24., 28., 32., 36.],\n        [40., 45., 50., 55.]])"
     },
     "execution_count": 47,
     "metadata": {},
     "output_type": "execute_result"
    }
   ],
   "source": [
    "A.cumsum(axis=0)"
   ],
   "metadata": {
    "collapsed": false,
    "ExecuteTime": {
     "end_time": "2023-10-17T10:01:30.901404700Z",
     "start_time": "2023-10-17T10:01:30.853110100Z"
    }
   },
   "id": "36e1b022923f83b7"
  },
  {
   "cell_type": "markdown",
   "source": [
    "### 点积是相同位置的按元素乘积的和"
   ],
   "metadata": {
    "collapsed": false
   },
   "id": "986b071ee121628c"
  },
  {
   "cell_type": "code",
   "execution_count": 48,
   "outputs": [
    {
     "data": {
      "text/plain": "(tensor([0., 1., 2., 3.]), tensor([1., 1., 1., 1.]), tensor(6.))"
     },
     "execution_count": 48,
     "metadata": {},
     "output_type": "execute_result"
    }
   ],
   "source": [
    "y = torch.ones(4, dtype=torch.float32)\n",
    "x, y, torch.dot(x, y)"
   ],
   "metadata": {
    "collapsed": false,
    "ExecuteTime": {
     "end_time": "2023-10-18T01:49:55.021525400Z",
     "start_time": "2023-10-18T01:49:54.934741400Z"
    }
   },
   "id": "c7055cb0858b11b"
  },
  {
   "cell_type": "markdown",
   "source": [
    "### 等价于通过执行按元素乘法，然后进行求和来表示两个向量的点积"
   ],
   "metadata": {
    "collapsed": false
   },
   "id": "5ea621f4b9b5addd"
  },
  {
   "cell_type": "code",
   "execution_count": 49,
   "outputs": [
    {
     "data": {
      "text/plain": "tensor(6.)"
     },
     "execution_count": 49,
     "metadata": {},
     "output_type": "execute_result"
    }
   ],
   "source": [
    "torch.sum(x * y)\n"
   ],
   "metadata": {
    "collapsed": false,
    "ExecuteTime": {
     "end_time": "2023-10-18T01:51:55.661992700Z",
     "start_time": "2023-10-18T01:51:55.590998900Z"
    }
   },
   "id": "874ab27edd242be7"
  },
  {
   "cell_type": "markdown",
   "source": [
    "### 矩阵向量积Ax是一个长度为m的列向量，其$i^{th} $ 元素是点积$a^T_iX$"
   ],
   "metadata": {
    "collapsed": false
   },
   "id": "8f718f86f4593ebf"
  },
  {
   "cell_type": "code",
   "execution_count": 51,
   "outputs": [
    {
     "data": {
      "text/plain": "(tensor([[ 0.,  1.,  2.,  3.],\n         [ 4.,  5.,  6.,  7.],\n         [ 8.,  9., 10., 11.],\n         [12., 13., 14., 15.],\n         [16., 17., 18., 19.]]),\n tensor([0., 1., 2., 3.]),\n torch.Size([5, 4]),\n torch.Size([4]),\n tensor([ 14.,  38.,  62.,  86., 110.]))"
     },
     "execution_count": 51,
     "metadata": {},
     "output_type": "execute_result"
    }
   ],
   "source": [
    "A, x, A.shape, x.shape, torch.mv(A, x)"
   ],
   "metadata": {
    "collapsed": false,
    "ExecuteTime": {
     "end_time": "2023-10-18T01:55:37.326403500Z",
     "start_time": "2023-10-18T01:55:37.300404100Z"
    }
   },
   "id": "aca0f931f20bb087"
  },
  {
   "cell_type": "markdown",
   "source": [
    "## 矩阵乘法\n"
   ],
   "metadata": {
    "collapsed": false
   },
   "id": "63cf383263f9a548"
  },
  {
   "cell_type": "code",
   "execution_count": 53,
   "outputs": [
    {
     "data": {
      "text/plain": "tensor([[ 6.,  6.,  6.],\n        [22., 22., 22.],\n        [38., 38., 38.],\n        [54., 54., 54.],\n        [70., 70., 70.]])"
     },
     "execution_count": 53,
     "metadata": {},
     "output_type": "execute_result"
    }
   ],
   "source": [
    "B = torch.ones(4, 3)\n",
    "torch.mm(A, B)"
   ],
   "metadata": {
    "collapsed": false,
    "ExecuteTime": {
     "end_time": "2023-10-18T01:56:47.504263600Z",
     "start_time": "2023-10-18T01:56:47.403323800Z"
    }
   },
   "id": "1f1e786dad500a72"
  },
  {
   "cell_type": "markdown",
   "source": [
    "## L2范数\n",
    "$$||x||_2 = \\sqrt{\\sum_n^{i=1}x_i^2}$$"
   ],
   "metadata": {
    "collapsed": false
   },
   "id": "8a0afeb9a33720fb"
  },
  {
   "cell_type": "code",
   "execution_count": 54,
   "outputs": [
    {
     "data": {
      "text/plain": "tensor(5.)"
     },
     "execution_count": 54,
     "metadata": {},
     "output_type": "execute_result"
    }
   ],
   "source": [
    "u = torch.tensor([3.0, -4.0])\n",
    "torch.norm(u)"
   ],
   "metadata": {
    "collapsed": false,
    "ExecuteTime": {
     "end_time": "2023-10-18T02:01:15.184794400Z",
     "start_time": "2023-10-18T02:01:15.087790600Z"
    }
   },
   "id": "8ec9b4a3f9fa4771"
  },
  {
   "cell_type": "markdown",
   "source": [
    "L1范数\n",
    "$$||x||_1 = \\sum_{i = 1}^n|x_i|$$"
   ],
   "metadata": {
    "collapsed": false
   },
   "id": "cd7f72ab05b63757"
  },
  {
   "cell_type": "code",
   "execution_count": 55,
   "outputs": [
    {
     "data": {
      "text/plain": "tensor(7.)"
     },
     "execution_count": 55,
     "metadata": {},
     "output_type": "execute_result"
    }
   ],
   "source": [
    "torch.abs(u).sum()"
   ],
   "metadata": {
    "collapsed": false,
    "ExecuteTime": {
     "end_time": "2023-10-18T02:03:26.420704200Z",
     "start_time": "2023-10-18T02:03:26.367512800Z"
    }
   },
   "id": "93fcbd829542b10c"
  },
  {
   "cell_type": "markdown",
   "source": [
    "## 矩阵的F范数 ：Frobenius norm 弗罗贝尼乌斯范数 矩阵元素的平方和的平方根\n",
    "$$||X||_F = \\sqrt{\\sum_{i=1}^m\\sum_{j=1}^nx_{ij}}$$"
   ],
   "metadata": {
    "collapsed": false
   },
   "id": "4175c828797fcf08"
  },
  {
   "cell_type": "code",
   "execution_count": 56,
   "outputs": [
    {
     "data": {
      "text/plain": "tensor(6.)"
     },
     "execution_count": 56,
     "metadata": {},
     "output_type": "execute_result"
    }
   ],
   "source": [
    "torch.norm(torch.ones((4,9)))"
   ],
   "metadata": {
    "collapsed": false,
    "ExecuteTime": {
     "end_time": "2023-10-18T02:06:43.737870700Z",
     "start_time": "2023-10-18T02:06:43.609633200Z"
    }
   },
   "id": "20053eafdb776b9b"
  },
  {
   "cell_type": "markdown",
   "source": [
    "# 四维矩阵求和"
   ],
   "metadata": {
    "collapsed": false
   },
   "id": "754f5c41c8012ae9"
  },
  {
   "cell_type": "code",
   "execution_count": 57,
   "outputs": [
    {
     "data": {
      "text/plain": "(tensor([[[[ 0,  1,  2,  3],\n           [ 4,  5,  6,  7],\n           [ 8,  9, 10, 11],\n           [12, 13, 14, 15],\n           [16, 17, 18, 19]],\n \n          [[20, 21, 22, 23],\n           [24, 25, 26, 27],\n           [28, 29, 30, 31],\n           [32, 33, 34, 35],\n           [36, 37, 38, 39]]],\n \n \n         [[[40, 41, 42, 43],\n           [44, 45, 46, 47],\n           [48, 49, 50, 51],\n           [52, 53, 54, 55],\n           [56, 57, 58, 59]],\n \n          [[60, 61, 62, 63],\n           [64, 65, 66, 67],\n           [68, 69, 70, 71],\n           [72, 73, 74, 75],\n           [76, 77, 78, 79]]]]),\n torch.Size([2, 2, 5, 4]))"
     },
     "execution_count": 57,
     "metadata": {},
     "output_type": "execute_result"
    }
   ],
   "source": [
    "A = torch.arange(20*2*2).reshape((2,2,5,4))\n",
    "A, A.shape"
   ],
   "metadata": {
    "collapsed": false,
    "ExecuteTime": {
     "end_time": "2023-10-18T02:41:25.538556900Z",
     "start_time": "2023-10-18T02:41:25.492556100Z"
    }
   },
   "id": "1d65f5bc28c26f73"
  },
  {
   "cell_type": "code",
   "execution_count": 58,
   "outputs": [
    {
     "data": {
      "text/plain": "(tensor([[[ 40,  42,  44,  46],\n          [ 48,  50,  52,  54],\n          [ 56,  58,  60,  62],\n          [ 64,  66,  68,  70],\n          [ 72,  74,  76,  78]],\n \n         [[ 80,  82,  84,  86],\n          [ 88,  90,  92,  94],\n          [ 96,  98, 100, 102],\n          [104, 106, 108, 110],\n          [112, 114, 116, 118]]]),\n torch.Size([2, 5, 4]))"
     },
     "execution_count": 58,
     "metadata": {},
     "output_type": "execute_result"
    }
   ],
   "source": [
    "A_sum_axis0 = A.sum(axis=0)\n",
    "A_sum_axis0, A_sum_axis0.shape"
   ],
   "metadata": {
    "collapsed": false,
    "ExecuteTime": {
     "end_time": "2023-10-18T02:43:12.687770900Z",
     "start_time": "2023-10-18T02:43:12.647801200Z"
    }
   },
   "id": "c37b4ee9400a85c0"
  },
  {
   "cell_type": "code",
   "execution_count": 59,
   "outputs": [
    {
     "data": {
      "text/plain": "(tensor([[[ 20,  22,  24,  26],\n          [ 28,  30,  32,  34],\n          [ 36,  38,  40,  42],\n          [ 44,  46,  48,  50],\n          [ 52,  54,  56,  58]],\n \n         [[100, 102, 104, 106],\n          [108, 110, 112, 114],\n          [116, 118, 120, 122],\n          [124, 126, 128, 130],\n          [132, 134, 136, 138]]]),\n torch.Size([2, 5, 4]))"
     },
     "execution_count": 59,
     "metadata": {},
     "output_type": "execute_result"
    }
   ],
   "source": [
    "A_sum_axis1 = A.sum(axis=1)\n",
    "A_sum_axis1, A_sum_axis1.shape"
   ],
   "metadata": {
    "collapsed": false,
    "ExecuteTime": {
     "end_time": "2023-10-18T02:44:11.075221200Z",
     "start_time": "2023-10-18T02:44:11.019845300Z"
    }
   },
   "id": "ab897676cb00269d"
  },
  {
   "cell_type": "code",
   "execution_count": null,
   "outputs": [],
   "source": [],
   "metadata": {
    "collapsed": false
   },
   "id": "3bb204c029f688f6"
  }
 ],
 "metadata": {
  "kernelspec": {
   "display_name": "Python 3",
   "language": "python",
   "name": "python3"
  },
  "language_info": {
   "codemirror_mode": {
    "name": "ipython",
    "version": 2
   },
   "file_extension": ".py",
   "mimetype": "text/x-python",
   "name": "python",
   "nbconvert_exporter": "python",
   "pygments_lexer": "ipython2",
   "version": "2.7.6"
  }
 },
 "nbformat": 4,
 "nbformat_minor": 5
}
