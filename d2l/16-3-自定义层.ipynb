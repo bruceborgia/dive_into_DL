{
 "cells": [
  {
   "cell_type": "markdown",
   "source": [
    "# 自定义层\n",
    "构造一个没有任何参数的自定义层"
   ],
   "metadata": {
    "collapsed": false
   },
   "id": "9809af48d5728403"
  },
  {
   "cell_type": "code",
   "execution_count": 3,
   "outputs": [
    {
     "data": {
      "text/plain": "tensor([-2., -1.,  0.,  1.,  2.])"
     },
     "execution_count": 3,
     "metadata": {},
     "output_type": "execute_result"
    }
   ],
   "source": [
    "import torch\n",
    "import torch.nn.functional as F\n",
    "from torch import nn\n",
    "\n",
    "class CenteredLayer(nn.Module):\n",
    "    def __init__(self):\n",
    "        super().__init__()\n",
    "    def forward(self, X):\n",
    "        return X - X.mean()\n",
    "\n",
    "layer = CenteredLayer()\n",
    "layer(torch.FloatTensor([1, 2, 3, 4, 5]))\n",
    "        "
   ],
   "metadata": {
    "collapsed": false,
    "ExecuteTime": {
     "end_time": "2023-10-27T07:46:30.054748900Z",
     "start_time": "2023-10-27T07:46:30.022703900Z"
    }
   },
   "id": "e3a26926f54e28e"
  },
  {
   "cell_type": "markdown",
   "source": [
    "## 将层作为组件合并到构建更复杂的模型中"
   ],
   "metadata": {
    "collapsed": false
   },
   "id": "bf076de7ded300b5"
  },
  {
   "cell_type": "code",
   "execution_count": 4,
   "outputs": [
    {
     "data": {
      "text/plain": "tensor(-3.7253e-09, grad_fn=<MeanBackward0>)"
     },
     "execution_count": 4,
     "metadata": {},
     "output_type": "execute_result"
    }
   ],
   "source": [
    "net = nn.Sequential(nn.Linear(8, 128), CenteredLayer())\n",
    "\n",
    "Y = net(torch.rand(4, 8))\n",
    "Y.mean()"
   ],
   "metadata": {
    "collapsed": false,
    "ExecuteTime": {
     "end_time": "2023-10-27T07:48:17.632166900Z",
     "start_time": "2023-10-27T07:48:17.583483600Z"
    }
   },
   "id": "4c5d41de84dfa7ad"
  },
  {
   "cell_type": "markdown",
   "source": [
    "## 带参数的图层"
   ],
   "metadata": {
    "collapsed": false
   },
   "id": "955146db8bd4e30b"
  },
  {
   "cell_type": "code",
   "execution_count": 5,
   "outputs": [
    {
     "data": {
      "text/plain": "Parameter containing:\ntensor([[-0.1390,  0.6715, -0.4779],\n        [ 0.0079,  1.3924, -0.3945],\n        [ 1.0198,  0.9838, -0.6867],\n        [-0.7157, -0.3057, -0.8312],\n        [-0.8579,  0.3135,  0.5824]], requires_grad=True)"
     },
     "execution_count": 5,
     "metadata": {},
     "output_type": "execute_result"
    }
   ],
   "source": [
    "class MyLinear(nn.Module):\n",
    "    def __init__(self, in_units, units):\n",
    "        super().__init__()\n",
    "        self.weight = nn.Parameter(torch.randn(in_units, units))\n",
    "        self.bias = nn.Parameter(torch.randn(units,))\n",
    "    \n",
    "    def forward(self, X):\n",
    "        linear = torch.matmul(X, self.weight.data) + self.bias.data\n",
    "        return F.relu(linear)\n",
    "    \n",
    "dense = MyLinear(5, 3)\n",
    "dense.weight"
   ],
   "metadata": {
    "collapsed": false,
    "ExecuteTime": {
     "end_time": "2023-10-27T07:52:50.391105100Z",
     "start_time": "2023-10-27T07:52:50.325713Z"
    }
   },
   "id": "3762c31c46a34f0"
  },
  {
   "cell_type": "markdown",
   "source": [
    "## 使用自定义层直接执行正向传播计算"
   ],
   "metadata": {
    "collapsed": false
   },
   "id": "95d77a0f8d399851"
  },
  {
   "cell_type": "code",
   "execution_count": 6,
   "outputs": [
    {
     "data": {
      "text/plain": "tensor([[0.0000, 2.2453, 0.0000],\n        [0.0000, 2.0098, 0.0000]])"
     },
     "execution_count": 6,
     "metadata": {},
     "output_type": "execute_result"
    }
   ],
   "source": [
    "dense(torch.rand(2, 5))"
   ],
   "metadata": {
    "collapsed": false,
    "ExecuteTime": {
     "end_time": "2023-10-27T08:25:57.918890Z",
     "start_time": "2023-10-27T08:25:57.859700500Z"
    }
   },
   "id": "d4bcb0e6306e0783"
  },
  {
   "cell_type": "markdown",
   "source": [
    "## 使用自定义层构建模型  "
   ],
   "metadata": {
    "collapsed": false
   },
   "id": "d84acc172776a7fe"
  },
  {
   "cell_type": "code",
   "execution_count": 7,
   "outputs": [
    {
     "data": {
      "text/plain": "tensor([[16.9716],\n        [12.8868]])"
     },
     "execution_count": 7,
     "metadata": {},
     "output_type": "execute_result"
    }
   ],
   "source": [
    "net = nn.Sequential(MyLinear(64, 8), MyLinear(8, 1))\n",
    "net(torch.rand(2, 64))"
   ],
   "metadata": {
    "collapsed": false,
    "ExecuteTime": {
     "end_time": "2023-10-27T08:48:05.268530400Z",
     "start_time": "2023-10-27T08:48:05.220507Z"
    }
   },
   "id": "d78d586c2c578d3c"
  },
  {
   "cell_type": "code",
   "execution_count": null,
   "outputs": [],
   "source": [],
   "metadata": {
    "collapsed": false
   },
   "id": "13d3a92733a91a61"
  }
 ],
 "metadata": {
  "kernelspec": {
   "display_name": "Python 3",
   "language": "python",
   "name": "python3"
  },
  "language_info": {
   "codemirror_mode": {
    "name": "ipython",
    "version": 2
   },
   "file_extension": ".py",
   "mimetype": "text/x-python",
   "name": "python",
   "nbconvert_exporter": "python",
   "pygments_lexer": "ipython2",
   "version": "2.7.6"
  }
 },
 "nbformat": 4,
 "nbformat_minor": 5
}
