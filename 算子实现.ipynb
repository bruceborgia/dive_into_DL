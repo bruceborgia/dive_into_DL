{
 "cells": [
  {
   "cell_type": "code",
   "execution_count": 10,
   "id": "initial_id",
   "metadata": {
    "collapsed": true,
    "ExecuteTime": {
     "end_time": "2023-10-10T03:02:58.453253800Z",
     "start_time": "2023-10-10T03:02:58.433321200Z"
    }
   },
   "outputs": [],
   "source": [
    "import torch\n",
    "from torch import Tensor\n",
    "from torch import nn\n",
    "from torch.utils.data import DataLoader\n",
    "import torchvision\n",
    "import torchvision.transforms\n",
    "import numpy as np\n",
    "import matplotlib\n",
    "import matplotlib.pyplot as plt\n",
    "\n",
    "import time\n",
    "\n",
    "matplotlib.use('TkAgg')"
   ]
  },
  {
   "cell_type": "code",
   "execution_count": 11,
   "outputs": [],
   "source": [
    "# 获取数据集\n",
    "training_data = torchvision.datasets.MNIST(root='data', train=True, download=True, transform=torchvision.transforms.ToTensor())\n",
    "test_data = torchvision.datasets.MNIST(root='data', train=False, download=True, transform=torchvision.transforms.ToTensor())"
   ],
   "metadata": {
    "collapsed": false,
    "ExecuteTime": {
     "end_time": "2023-10-10T03:02:58.788283300Z",
     "start_time": "2023-10-10T03:02:58.723285400Z"
    }
   },
   "id": "962e10655645f10f"
  },
  {
   "cell_type": "code",
   "execution_count": 12,
   "outputs": [],
   "source": [
    "# data loader\n",
    "batch_size = 64\n",
    "\n",
    "train_dataloader = torch.utils.data.DataLoader(training_data, batch_size=batch_size)\n",
    "test_dataloader = torch.utils.data.DataLoader(test_data, batch_size=batch_size)\n"
   ],
   "metadata": {
    "collapsed": false,
    "ExecuteTime": {
     "end_time": "2023-10-10T03:02:59.223587700Z",
     "start_time": "2023-10-10T03:02:59.213197100Z"
    }
   },
   "id": "28a208bff6430db"
  },
  {
   "cell_type": "code",
   "execution_count": 14,
   "outputs": [
    {
     "name": "stdout",
     "output_type": "stream",
     "text": [
      "Training data torch.Size([60000, 28, 28])\n",
      "test data torch.Size([10000, 28, 28])\n",
      "Shape of X [N, C, H, W]:torch.Size([64, 1, 28, 28])\n",
      "Shape of y:torch.Size([64]) torch.int64\n"
     ]
    }
   ],
   "source": [
    "print('Training data', training_data.data.shape)\n",
    "print('test data', test_data.data.shape)\n",
    "\n",
    "for X,y in test_dataloader:\n",
    "    print(f\"Shape of X [N, C, H, W]:{X.shape}\")\n",
    "    print(f\"Shape of y:{y.shape} {y.dtype}\")\n",
    "    break"
   ],
   "metadata": {
    "collapsed": false,
    "ExecuteTime": {
     "end_time": "2023-10-10T03:05:42.475904700Z",
     "start_time": "2023-10-10T03:05:42.441245800Z"
    }
   },
   "id": "fe7666c59cdfaac8"
  },
  {
   "cell_type": "code",
   "execution_count": 15,
   "outputs": [
    {
     "name": "stdout",
     "output_type": "stream",
     "text": [
      "Using cpu device\n"
     ]
    }
   ],
   "source": [
    "# 训练方式 cpu/gpu\n",
    "device = \"cuda\" if torch.cuda.is_available() else \"cpu\"\n",
    "print(f\"Using {device} device\")"
   ],
   "metadata": {
    "collapsed": false,
    "ExecuteTime": {
     "end_time": "2023-10-10T03:06:59.446316300Z",
     "start_time": "2023-10-10T03:06:59.336405900Z"
    }
   },
   "id": "6397de0f81db8434"
  },
  {
   "cell_type": "code",
   "execution_count": 22,
   "outputs": [],
   "source": [
    "# 用现有卷积层定义模型\n",
    "class CNN(nn.Module):\n",
    "    def __init__(self):\n",
    "        super(CNN, self).__init__()\n",
    "        \n",
    "        self.layer1 = nn.Sequential(\n",
    "            nn.Conv2d(1, 32, 3, 1),\n",
    "            nn.ReLU(),\n",
    "            nn.Conv2d(32, 64, 3, 1),\n",
    "            nn.BatchNorm2d(64),\n",
    "            nn.ReLU(),\n",
    "            nn.MaxPool2d(2, 2),\n",
    "        )\n",
    "        \n",
    "        self.flatten = nn.Flatten()\n",
    "        self.fc = nn.Sequential(\n",
    "            nn.Linear(64 * 12 * 12, 256),\n",
    "            nn.ReLU(),\n",
    "            nn.Linear(256, 10),\n",
    "        )\n",
    "    \n",
    "    def forward(self, x):\n",
    "        x = self.layer1(x)\n",
    "        x = self.flatten(x)\n",
    "        x = self.fc(x)\n",
    "        return x"
   ],
   "metadata": {
    "collapsed": false,
    "ExecuteTime": {
     "end_time": "2023-10-10T03:48:49.667107700Z",
     "start_time": "2023-10-10T03:48:49.646927700Z"
    }
   },
   "id": "43b23150deef901"
  },
  {
   "cell_type": "code",
   "execution_count": 23,
   "outputs": [
    {
     "name": "stdout",
     "output_type": "stream",
     "text": [
      "CNN(\n",
      "  (layer1): Sequential(\n",
      "    (0): Conv2d(1, 32, kernel_size=(3, 3), stride=(1, 1))\n",
      "    (1): ReLU()\n",
      "    (2): Conv2d(32, 64, kernel_size=(3, 3), stride=(1, 1))\n",
      "    (3): BatchNorm2d(64, eps=1e-05, momentum=0.1, affine=True, track_running_stats=True)\n",
      "    (4): ReLU()\n",
      "    (5): MaxPool2d(kernel_size=2, stride=2, padding=0, dilation=1, ceil_mode=False)\n",
      "  )\n",
      "  (flatten): Flatten(start_dim=1, end_dim=-1)\n",
      "  (fc): Sequential(\n",
      "    (0): Linear(in_features=9216, out_features=256, bias=True)\n",
      "    (1): ReLU()\n",
      "    (2): Linear(in_features=256, out_features=10, bias=True)\n",
      "  )\n",
      ")\n"
     ]
    }
   ],
   "source": [
    "# 实例1\n",
    "model1 = CNN().to(device)\n",
    "print(model1)"
   ],
   "metadata": {
    "collapsed": false,
    "ExecuteTime": {
     "end_time": "2023-10-10T03:48:50.371829Z",
     "start_time": "2023-10-10T03:48:50.331964300Z"
    }
   },
   "id": "abdf9b8adb00cf59"
  },
  {
   "cell_type": "code",
   "execution_count": 24,
   "outputs": [],
   "source": [
    "# 训练和测试函数\n",
    "def train(dataloader, model, loss_fn, optimizer):\n",
    "    size = len(dataloader.dataset)\n",
    "    model.train()\n",
    "    for batch, (X, y) in enumerate(dataloader):\n",
    "        X, y = X.to(device), y.to(device)\n",
    "        \n",
    "        # Compute prediction error\n",
    "        pred = model(X)\n",
    "        loss = loss_fn(pred, y)\n",
    "        \n",
    "        # Backpropagation\n",
    "        optimizer.zero_grad()\n",
    "        loss.backward()\n",
    "        optimizer.step()\n",
    "        \n",
    "        if batch % 100 == 0:\n",
    "            loss, current = loss.item(), batch * len(X)\n",
    "            print(f\"loss: {loss:>7f} [{current:>5d}/{size:>5d}]\")"
   ],
   "metadata": {
    "collapsed": false,
    "ExecuteTime": {
     "end_time": "2023-10-10T03:48:51.006869100Z",
     "start_time": "2023-10-10T03:48:50.976926200Z"
    }
   },
   "id": "e7803c88718e2e5e"
  },
  {
   "cell_type": "code",
   "execution_count": 25,
   "outputs": [],
   "source": [
    "def test(dataloader, model, loss_fn):\n",
    "    size = len(dataloader.dataset)\n",
    "    num_batches = len(dataloader)\n",
    "    model.eval()\n",
    "    test_loss, correct = 0, 0\n",
    "    with torch.no_grad():\n",
    "        for X, y in dataloader:\n",
    "            X, y = X.to(device), y.to(device)\n",
    "            pred = model(X)\n",
    "            test_loss += loss_fn(pred, y).item()\n",
    "            correct += (pred.argmax(1) == y).type(torch.float).sum().item()\n",
    "    test_loss /= num_batches\n",
    "    correct /= size\n",
    "    print(f\"Test Error: \\n Accuracy:{(100 * correct):>0.1f}%, Avg loss:{test_loss:>8f}\\n\")"
   ],
   "metadata": {
    "collapsed": false,
    "ExecuteTime": {
     "end_time": "2023-10-10T03:48:51.607083100Z",
     "start_time": "2023-10-10T03:48:51.566744400Z"
    }
   },
   "id": "e05f6ea4c94d879e"
  },
  {
   "cell_type": "code",
   "execution_count": 26,
   "outputs": [
    {
     "name": "stdout",
     "output_type": "stream",
     "text": [
      "Start\n",
      "Epoch 1\n",
      "-------------------------------\n",
      "loss: 2.311503 [    0/60000]\n",
      "loss: 0.124321 [ 6400/60000]\n",
      "loss: 0.164660 [12800/60000]\n",
      "loss: 0.048784 [19200/60000]\n",
      "loss: 0.036829 [25600/60000]\n",
      "loss: 0.165229 [32000/60000]\n",
      "loss: 0.113340 [38400/60000]\n",
      "loss: 0.073978 [44800/60000]\n",
      "loss: 0.166705 [51200/60000]\n",
      "loss: 0.061555 [57600/60000]\n",
      "Test Error: \n",
      " Accuracy:98.3%, Avg loss:0.049882\n",
      "\n",
      "Epoch 2\n",
      "-------------------------------\n",
      "loss: 0.016103 [    0/60000]\n",
      "loss: 0.108024 [ 6400/60000]\n",
      "loss: 0.016330 [12800/60000]\n",
      "loss: 0.028433 [19200/60000]\n",
      "loss: 0.009245 [25600/60000]\n",
      "loss: 0.059181 [32000/60000]\n",
      "loss: 0.070592 [38400/60000]\n",
      "loss: 0.048360 [44800/60000]\n",
      "loss: 0.078897 [51200/60000]\n",
      "loss: 0.051312 [57600/60000]\n",
      "Test Error: \n",
      " Accuracy:98.7%, Avg loss:0.038269\n",
      "\n",
      "Epoch 3\n",
      "-------------------------------\n",
      "loss: 0.007250 [    0/60000]\n",
      "loss: 0.049616 [ 6400/60000]\n",
      "loss: 0.010427 [12800/60000]\n",
      "loss: 0.040619 [19200/60000]\n",
      "loss: 0.020660 [25600/60000]\n",
      "loss: 0.009932 [32000/60000]\n",
      "loss: 0.064644 [38400/60000]\n",
      "loss: 0.011611 [44800/60000]\n",
      "loss: 0.061653 [51200/60000]\n",
      "loss: 0.013197 [57600/60000]\n",
      "Test Error: \n",
      " Accuracy:98.8%, Avg loss:0.038569\n",
      "\n",
      "Epoch 4\n",
      "-------------------------------\n",
      "loss: 0.008240 [    0/60000]\n",
      "loss: 0.008542 [ 6400/60000]\n",
      "loss: 0.052527 [12800/60000]\n",
      "loss: 0.008729 [19200/60000]\n",
      "loss: 0.016029 [25600/60000]\n",
      "loss: 0.019199 [32000/60000]\n",
      "loss: 0.049157 [38400/60000]\n",
      "loss: 0.021703 [44800/60000]\n",
      "loss: 0.054884 [51200/60000]\n",
      "loss: 0.006316 [57600/60000]\n",
      "Test Error: \n",
      " Accuracy:98.8%, Avg loss:0.038318\n",
      "\n",
      "Epoch 5\n",
      "-------------------------------\n",
      "loss: 0.005635 [    0/60000]\n",
      "loss: 0.003610 [ 6400/60000]\n",
      "loss: 0.003686 [12800/60000]\n",
      "loss: 0.001021 [19200/60000]\n",
      "loss: 0.022454 [25600/60000]\n",
      "loss: 0.012154 [32000/60000]\n",
      "loss: 0.003660 [38400/60000]\n",
      "loss: 0.001375 [44800/60000]\n",
      "loss: 0.054452 [51200/60000]\n",
      "loss: 0.016987 [57600/60000]\n",
      "Test Error: \n",
      " Accuracy:99.0%, Avg loss:0.035828\n",
      "\n",
      "Done!  Time cost:  332.41811656951904\n"
     ]
    }
   ],
   "source": [
    "# 训练第一个模型\n",
    "# 损失函数\n",
    "loss_fn = nn.CrossEntropyLoss()\n",
    "optimizer = torch.optim.SGD(model1.parameters(), lr=1e-2, momentum=0.9, weight_decay=1e-4)\n",
    "\n",
    "epochs = 5\n",
    "print(\"Start\")\n",
    "t1 =time.time()\n",
    "for t in range(epochs):\n",
    "    print(f\"Epoch {t + 1}\\n-------------------------------\")\n",
    "    train(train_dataloader, model1, loss_fn, optimizer)\n",
    "    test(test_dataloader, model1, loss_fn)\n",
    "print(\"Done!  Time cost: \", time.time() - t1)"
   ],
   "metadata": {
    "collapsed": false,
    "ExecuteTime": {
     "end_time": "2023-10-10T03:54:24.662955800Z",
     "start_time": "2023-10-10T03:48:52.226728800Z"
    }
   },
   "id": "1d37b3c24d5bca0b"
  },
  {
   "cell_type": "code",
   "execution_count": 27,
   "outputs": [
    {
     "data": {
      "text/plain": "Dataset MNIST\n    Number of datapoints: 60000\n    Root location: data\n    Split: Train\n    StandardTransform\nTransform: ToTensor()"
     },
     "execution_count": 27,
     "metadata": {},
     "output_type": "execute_result"
    }
   ],
   "source": [
    "training_data"
   ],
   "metadata": {
    "collapsed": false,
    "ExecuteTime": {
     "end_time": "2023-10-10T06:39:56.715798600Z",
     "start_time": "2023-10-10T06:39:56.683538400Z"
    }
   },
   "id": "18dd6abd92c7e6e1"
  },
  {
   "cell_type": "code",
   "execution_count": null,
   "outputs": [],
   "source": [],
   "metadata": {
    "collapsed": false
   },
   "id": "a1823efaa79c4eb7"
  }
 ],
 "metadata": {
  "kernelspec": {
   "display_name": "Python 3",
   "language": "python",
   "name": "python3"
  },
  "language_info": {
   "codemirror_mode": {
    "name": "ipython",
    "version": 2
   },
   "file_extension": ".py",
   "mimetype": "text/x-python",
   "name": "python",
   "nbconvert_exporter": "python",
   "pygments_lexer": "ipython2",
   "version": "2.7.6"
  }
 },
 "nbformat": 4,
 "nbformat_minor": 5
}
