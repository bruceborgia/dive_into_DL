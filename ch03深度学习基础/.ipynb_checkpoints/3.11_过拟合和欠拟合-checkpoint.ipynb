{
 "cells": [
  {
   "cell_type": "code",
   "execution_count": 1,
   "metadata": {},
   "outputs": [],
   "source": [
    "import math\n",
    "import numpy as np\n",
    "import torch\n",
    "from torch import nn\n",
    "from d2l import torch as d2l"
   ]
  },
  {
   "cell_type": "code",
   "execution_count": 7,
   "metadata": {},
   "outputs": [],
   "source": [
    "max_degree = 20  # 多项式的最大阶数\n",
    "n_train, n_test = 100, 100  # 训练和测试数据集大小\n",
    "true_w = np.zeros(max_degree)  # 分配大量的空间\n",
    "true_w[0:4] = np.array([5, 1.2, -3.4, 5.6])\n",
    "\n",
    "features = np.random.normal(size=(n_train + n_test, 1))\n",
    "np.random.shuffle(features)\n",
    "poly_features = np.power(features, np.arange(max_degree).reshape(1, -1))\n",
    "for i in range(max_degree):\n",
    "    poly_features[:, i] /= math.gamma(i + 1)  # `gamma(n)` = (n-1)!\n",
    "# `labels`的维度: (`n_train` + `n_test`,)\n",
    "labels = np.dot(poly_features, true_w)\n",
    "labels += np.random.normal(scale=0.1, size=labels.shape)"
   ]
  },
  {
   "cell_type": "code",
   "execution_count": 8,
   "metadata": {},
   "outputs": [
    {
     "data": {
      "text/plain": [
       "(tensor([[1.4037],\n",
       "         [0.0774]]),\n",
       " tensor([[1.0000e+00, 1.4037e+00, 9.8524e-01, 4.6100e-01, 1.6178e-01, 4.5420e-02,\n",
       "          1.0626e-02, 2.1309e-03, 3.7390e-04, 5.8318e-05, 8.1863e-06, 1.0447e-06,\n",
       "          1.2220e-07, 1.3195e-08, 1.3231e-09, 1.2382e-10, 1.0863e-11, 8.9697e-13,\n",
       "          6.9950e-14, 5.1680e-15],\n",
       "         [1.0000e+00, 7.7363e-02, 2.9926e-03, 7.7171e-05, 1.4926e-06, 2.3094e-08,\n",
       "          2.9777e-10, 3.2909e-12, 3.1825e-14, 2.7356e-16, 2.1164e-18, 1.4885e-20,\n",
       "          9.5961e-23, 5.7107e-25, 3.1557e-27, 1.6276e-29, 7.8696e-32, 3.5813e-34,\n",
       "          1.5392e-36, 6.2674e-39]]),\n",
       " tensor([5.7604, 5.1932]))"
      ]
     },
     "execution_count": 8,
     "metadata": {},
     "output_type": "execute_result"
    }
   ],
   "source": [
    "# NumPy ndarray转换为tensor\n",
    "true_w, features, poly_features, labels = [\n",
    "    torch.tensor(x, dtype=torch.float32)\n",
    "    for x in [true_w, features, poly_features, labels]]\n",
    "\n",
    "features[:2], poly_features[:2, :], labels[:2]"
   ]
  },
  {
   "cell_type": "markdown",
   "metadata": {},
   "source": [
    "实现一个函数来评估模型在给定数据集上的损失。"
   ]
  },
  {
   "cell_type": "code",
   "execution_count": 9,
   "metadata": {},
   "outputs": [],
   "source": [
    "def evaluate_loss(net, data_iter, loss):  #@save\n",
    "    \"\"\"评估给定数据集上模型的损失。\"\"\"\n",
    "    metric = d2l.Accumulator(2)  # 损失的总和, 样本数量\n",
    "    for X, y in data_iter:\n",
    "        out = net(X)\n",
    "        y = y.reshape(out.shape)\n",
    "        l = loss(out, y)\n",
    "        metric.add(l.sum(), l.numel())\n",
    "    return metric[0] / metric[1]"
   ]
  },
  {
   "cell_type": "code",
   "execution_count": null,
   "metadata": {},
   "outputs": [],
   "source": []
  }
 ],
 "metadata": {
  "kernelspec": {
   "display_name": "Python 3",
   "language": "python",
   "name": "python3"
  },
  "language_info": {
   "codemirror_mode": {
    "name": "ipython",
    "version": 3
   },
   "file_extension": ".py",
   "mimetype": "text/x-python",
   "name": "python",
   "nbconvert_exporter": "python",
   "pygments_lexer": "ipython3",
   "version": "3.7.3"
  }
 },
 "nbformat": 4,
 "nbformat_minor": 2
}
