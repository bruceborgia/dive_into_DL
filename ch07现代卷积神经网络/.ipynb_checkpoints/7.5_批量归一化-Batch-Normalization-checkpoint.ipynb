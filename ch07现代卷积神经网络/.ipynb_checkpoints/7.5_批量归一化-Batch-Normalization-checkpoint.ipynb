{
 "cells": [
  {
   "cell_type": "code",
   "execution_count": 1,
   "metadata": {},
   "outputs": [],
   "source": [
    "import torch\n",
    "from torch import nn\n",
    "from d2l import torch as d2l"
   ]
  },
  {
   "cell_type": "code",
   "execution_count": 6,
   "metadata": {},
   "outputs": [],
   "source": [
    "def batch_norm(X, gamma, beta, moving_mean, moving_var, eps, momentum):\n",
    "    '''moving_mean,moving_var 可以近似认为#是全局的均值方差，而不是这个小批量的均值方差，eps是为了避免分母出0的，\n",
    "    momentum用来更新moving_mean和moving_var的东西'''\n",
    "    #通过 is_grad_enable 来判断当前模式是训练模式还是预测模式\n",
    "    if not torch.is_grad_enabled():#不计算梯度，即预测模式\n",
    "        #如果是在预测模式下，直接使用传入的移动平均所得的均值和方差\n",
    "        X_hat = (X - moving_mean)/torch.sqrt(moving_var+eps)\n",
    "    else:#训练\n",
    "        assert len(X.shape) in (2,4)#先看X的shape，2是全连接层，4卷积层\n",
    "        if len(X.shape) == 2:\n",
    "            #使用全连接层的情况，计算特征维上的均值和方差。\n",
    "            mean = X.mean(dim = 0)# 按行求，每一列 均值  1Xn的行向量\n",
    "            var = ((X-mean)**2).mean(dim=0)#方差 也是个行向量\n",
    "        else:\n",
    "            #使用二维卷积层的情况，计算通道维上（AXIS = 1） 的均值和方差\n",
    "            #这里我们需要保存X的形状以便后面可以做广播运算\n",
    "            mean = X.mean(dim=(0,2,3),keepdim = True)#第二个维度是通道数\n",
    "            var = ((X-mean)**2).mean(dim=(0,2,3),keepdim = True)\n",
    "        #训练模式下，用当前的均值和方差做标准化\n",
    "        X_hat = (X-mean)/torch.sqrt(var + eps)\n",
    "        #更新移动平均的均值和方差\n",
    "        moving_mean = momentum * moving_mean + (1.0 - momentum) * mean\n",
    "        moving_var = momentum * moving_var + (1.0 - momentum) * var\n",
    "    Y = gamma * X_hat +beta #缩放和位移\n",
    "    return Y, moving_mean.data, moving_var.data"
   ]
  },
  {
   "cell_type": "code",
   "execution_count": null,
   "metadata": {},
   "outputs": [],
   "source": []
  }
 ],
 "metadata": {
  "kernelspec": {
   "display_name": "Python 3",
   "language": "python",
   "name": "python3"
  },
  "language_info": {
   "codemirror_mode": {
    "name": "ipython",
    "version": 3
   },
   "file_extension": ".py",
   "mimetype": "text/x-python",
   "name": "python",
   "nbconvert_exporter": "python",
   "pygments_lexer": "ipython3",
   "version": "3.7.3"
  }
 },
 "nbformat": 4,
 "nbformat_minor": 2
}
